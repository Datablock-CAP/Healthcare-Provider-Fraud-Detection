{
  "nbformat": 4,
  "nbformat_minor": 0,
  "metadata": {
    "kernelspec": {
      "display_name": "Python 3",
      "language": "python",
      "name": "python3"
    },
    "language_info": {
      "codemirror_mode": {
        "name": "ipython",
        "version": 3
      },
      "file_extension": ".py",
      "mimetype": "text/x-python",
      "name": "python",
      "nbconvert_exporter": "python",
      "pygments_lexer": "ipython3",
      "version": "3.8.5"
    },
    "colab": {
      "name": "Missing Values + Inconsistent Data Entry + Data Types (part 1).ipynb",
      "provenance": []
    }
  },
  "cells": [
    {
      "cell_type": "code",
      "metadata": {
        "id": "k8s8M-TO4J6h"
      },
      "source": [
        "import pandas as pd "
      ],
      "execution_count": null,
      "outputs": []
    },
    {
      "cell_type": "markdown",
      "metadata": {
        "id": "mra6Ab_84J6k"
      },
      "source": [
        "# `Reading the datasets`"
      ]
    },
    {
      "cell_type": "code",
      "metadata": {
        "id": "d-Ebq69s4J6k"
      },
      "source": [
        "benefitial_df = pd.read_csv(\"./data/Train_Beneficiarydata-1542865627584.csv\")\n",
        "inpatient_df = pd.read_csv(\"./data/Train_Inpatientdata-1542865627584.csv\")\n",
        "outpatient_df = pd.read_csv('./data/Train_Outpatientdata-1542865627584.csv')"
      ],
      "execution_count": null,
      "outputs": []
    },
    {
      "cell_type": "code",
      "metadata": {
        "scrolled": true,
        "id": "DPYv0bIv4J6l",
        "outputId": "f9c37fb0-48bf-48ba-9e4c-9e16ddfb41a2"
      },
      "source": [
        "benefitial_df.head()"
      ],
      "execution_count": null,
      "outputs": [
        {
          "output_type": "execute_result",
          "data": {
            "text/html": [
              "<div>\n",
              "<style scoped>\n",
              "    .dataframe tbody tr th:only-of-type {\n",
              "        vertical-align: middle;\n",
              "    }\n",
              "\n",
              "    .dataframe tbody tr th {\n",
              "        vertical-align: top;\n",
              "    }\n",
              "\n",
              "    .dataframe thead th {\n",
              "        text-align: right;\n",
              "    }\n",
              "</style>\n",
              "<table border=\"1\" class=\"dataframe\">\n",
              "  <thead>\n",
              "    <tr style=\"text-align: right;\">\n",
              "      <th></th>\n",
              "      <th>BeneID</th>\n",
              "      <th>DOB</th>\n",
              "      <th>DOD</th>\n",
              "      <th>Gender</th>\n",
              "      <th>Race</th>\n",
              "      <th>RenalDiseaseIndicator</th>\n",
              "      <th>State</th>\n",
              "      <th>County</th>\n",
              "      <th>NoOfMonths_PartACov</th>\n",
              "      <th>NoOfMonths_PartBCov</th>\n",
              "      <th>...</th>\n",
              "      <th>ChronicCond_Depression</th>\n",
              "      <th>ChronicCond_Diabetes</th>\n",
              "      <th>ChronicCond_IschemicHeart</th>\n",
              "      <th>ChronicCond_Osteoporasis</th>\n",
              "      <th>ChronicCond_rheumatoidarthritis</th>\n",
              "      <th>ChronicCond_stroke</th>\n",
              "      <th>IPAnnualReimbursementAmt</th>\n",
              "      <th>IPAnnualDeductibleAmt</th>\n",
              "      <th>OPAnnualReimbursementAmt</th>\n",
              "      <th>OPAnnualDeductibleAmt</th>\n",
              "    </tr>\n",
              "  </thead>\n",
              "  <tbody>\n",
              "    <tr>\n",
              "      <th>0</th>\n",
              "      <td>BENE11001</td>\n",
              "      <td>1943-01-01</td>\n",
              "      <td>NaN</td>\n",
              "      <td>1</td>\n",
              "      <td>1</td>\n",
              "      <td>0</td>\n",
              "      <td>39</td>\n",
              "      <td>230</td>\n",
              "      <td>12</td>\n",
              "      <td>12</td>\n",
              "      <td>...</td>\n",
              "      <td>1</td>\n",
              "      <td>1</td>\n",
              "      <td>1</td>\n",
              "      <td>2</td>\n",
              "      <td>1</td>\n",
              "      <td>1</td>\n",
              "      <td>36000</td>\n",
              "      <td>3204</td>\n",
              "      <td>60</td>\n",
              "      <td>70</td>\n",
              "    </tr>\n",
              "    <tr>\n",
              "      <th>1</th>\n",
              "      <td>BENE11002</td>\n",
              "      <td>1936-09-01</td>\n",
              "      <td>NaN</td>\n",
              "      <td>2</td>\n",
              "      <td>1</td>\n",
              "      <td>0</td>\n",
              "      <td>39</td>\n",
              "      <td>280</td>\n",
              "      <td>12</td>\n",
              "      <td>12</td>\n",
              "      <td>...</td>\n",
              "      <td>2</td>\n",
              "      <td>2</td>\n",
              "      <td>2</td>\n",
              "      <td>2</td>\n",
              "      <td>2</td>\n",
              "      <td>2</td>\n",
              "      <td>0</td>\n",
              "      <td>0</td>\n",
              "      <td>30</td>\n",
              "      <td>50</td>\n",
              "    </tr>\n",
              "    <tr>\n",
              "      <th>2</th>\n",
              "      <td>BENE11003</td>\n",
              "      <td>1936-08-01</td>\n",
              "      <td>NaN</td>\n",
              "      <td>1</td>\n",
              "      <td>1</td>\n",
              "      <td>0</td>\n",
              "      <td>52</td>\n",
              "      <td>590</td>\n",
              "      <td>12</td>\n",
              "      <td>12</td>\n",
              "      <td>...</td>\n",
              "      <td>2</td>\n",
              "      <td>2</td>\n",
              "      <td>1</td>\n",
              "      <td>2</td>\n",
              "      <td>2</td>\n",
              "      <td>2</td>\n",
              "      <td>0</td>\n",
              "      <td>0</td>\n",
              "      <td>90</td>\n",
              "      <td>40</td>\n",
              "    </tr>\n",
              "    <tr>\n",
              "      <th>3</th>\n",
              "      <td>BENE11004</td>\n",
              "      <td>1922-07-01</td>\n",
              "      <td>NaN</td>\n",
              "      <td>1</td>\n",
              "      <td>1</td>\n",
              "      <td>0</td>\n",
              "      <td>39</td>\n",
              "      <td>270</td>\n",
              "      <td>12</td>\n",
              "      <td>12</td>\n",
              "      <td>...</td>\n",
              "      <td>2</td>\n",
              "      <td>1</td>\n",
              "      <td>1</td>\n",
              "      <td>1</td>\n",
              "      <td>1</td>\n",
              "      <td>2</td>\n",
              "      <td>0</td>\n",
              "      <td>0</td>\n",
              "      <td>1810</td>\n",
              "      <td>760</td>\n",
              "    </tr>\n",
              "    <tr>\n",
              "      <th>4</th>\n",
              "      <td>BENE11005</td>\n",
              "      <td>1935-09-01</td>\n",
              "      <td>NaN</td>\n",
              "      <td>1</td>\n",
              "      <td>1</td>\n",
              "      <td>0</td>\n",
              "      <td>24</td>\n",
              "      <td>680</td>\n",
              "      <td>12</td>\n",
              "      <td>12</td>\n",
              "      <td>...</td>\n",
              "      <td>2</td>\n",
              "      <td>1</td>\n",
              "      <td>2</td>\n",
              "      <td>2</td>\n",
              "      <td>2</td>\n",
              "      <td>2</td>\n",
              "      <td>0</td>\n",
              "      <td>0</td>\n",
              "      <td>1790</td>\n",
              "      <td>1200</td>\n",
              "    </tr>\n",
              "  </tbody>\n",
              "</table>\n",
              "<p>5 rows × 25 columns</p>\n",
              "</div>"
            ],
            "text/plain": [
              "      BeneID         DOB  DOD  Gender  Race RenalDiseaseIndicator  State  \\\n",
              "0  BENE11001  1943-01-01  NaN       1     1                     0     39   \n",
              "1  BENE11002  1936-09-01  NaN       2     1                     0     39   \n",
              "2  BENE11003  1936-08-01  NaN       1     1                     0     52   \n",
              "3  BENE11004  1922-07-01  NaN       1     1                     0     39   \n",
              "4  BENE11005  1935-09-01  NaN       1     1                     0     24   \n",
              "\n",
              "   County  NoOfMonths_PartACov  NoOfMonths_PartBCov  ...  \\\n",
              "0     230                   12                   12  ...   \n",
              "1     280                   12                   12  ...   \n",
              "2     590                   12                   12  ...   \n",
              "3     270                   12                   12  ...   \n",
              "4     680                   12                   12  ...   \n",
              "\n",
              "   ChronicCond_Depression  ChronicCond_Diabetes  ChronicCond_IschemicHeart  \\\n",
              "0                       1                     1                          1   \n",
              "1                       2                     2                          2   \n",
              "2                       2                     2                          1   \n",
              "3                       2                     1                          1   \n",
              "4                       2                     1                          2   \n",
              "\n",
              "   ChronicCond_Osteoporasis  ChronicCond_rheumatoidarthritis  \\\n",
              "0                         2                                1   \n",
              "1                         2                                2   \n",
              "2                         2                                2   \n",
              "3                         1                                1   \n",
              "4                         2                                2   \n",
              "\n",
              "   ChronicCond_stroke  IPAnnualReimbursementAmt  IPAnnualDeductibleAmt  \\\n",
              "0                   1                     36000                   3204   \n",
              "1                   2                         0                      0   \n",
              "2                   2                         0                      0   \n",
              "3                   2                         0                      0   \n",
              "4                   2                         0                      0   \n",
              "\n",
              "   OPAnnualReimbursementAmt  OPAnnualDeductibleAmt  \n",
              "0                        60                     70  \n",
              "1                        30                     50  \n",
              "2                        90                     40  \n",
              "3                      1810                    760  \n",
              "4                      1790                   1200  \n",
              "\n",
              "[5 rows x 25 columns]"
            ]
          },
          "metadata": {
            "tags": []
          },
          "execution_count": 3
        }
      ]
    },
    {
      "cell_type": "code",
      "metadata": {
        "scrolled": false,
        "id": "AI-y7sL_4J6m",
        "outputId": "e6265350-b5af-4866-fa46-6ceb32a8fd6e"
      },
      "source": [
        "inpatient_df.head() "
      ],
      "execution_count": null,
      "outputs": [
        {
          "output_type": "execute_result",
          "data": {
            "text/html": [
              "<div>\n",
              "<style scoped>\n",
              "    .dataframe tbody tr th:only-of-type {\n",
              "        vertical-align: middle;\n",
              "    }\n",
              "\n",
              "    .dataframe tbody tr th {\n",
              "        vertical-align: top;\n",
              "    }\n",
              "\n",
              "    .dataframe thead th {\n",
              "        text-align: right;\n",
              "    }\n",
              "</style>\n",
              "<table border=\"1\" class=\"dataframe\">\n",
              "  <thead>\n",
              "    <tr style=\"text-align: right;\">\n",
              "      <th></th>\n",
              "      <th>BeneID</th>\n",
              "      <th>ClaimID</th>\n",
              "      <th>ClaimStartDt</th>\n",
              "      <th>ClaimEndDt</th>\n",
              "      <th>Provider</th>\n",
              "      <th>InscClaimAmtReimbursed</th>\n",
              "      <th>AttendingPhysician</th>\n",
              "      <th>OperatingPhysician</th>\n",
              "      <th>OtherPhysician</th>\n",
              "      <th>AdmissionDt</th>\n",
              "      <th>...</th>\n",
              "      <th>ClmDiagnosisCode_7</th>\n",
              "      <th>ClmDiagnosisCode_8</th>\n",
              "      <th>ClmDiagnosisCode_9</th>\n",
              "      <th>ClmDiagnosisCode_10</th>\n",
              "      <th>ClmProcedureCode_1</th>\n",
              "      <th>ClmProcedureCode_2</th>\n",
              "      <th>ClmProcedureCode_3</th>\n",
              "      <th>ClmProcedureCode_4</th>\n",
              "      <th>ClmProcedureCode_5</th>\n",
              "      <th>ClmProcedureCode_6</th>\n",
              "    </tr>\n",
              "  </thead>\n",
              "  <tbody>\n",
              "    <tr>\n",
              "      <th>0</th>\n",
              "      <td>BENE11001</td>\n",
              "      <td>CLM46614</td>\n",
              "      <td>2009-04-12</td>\n",
              "      <td>2009-04-18</td>\n",
              "      <td>PRV55912</td>\n",
              "      <td>26000</td>\n",
              "      <td>PHY390922</td>\n",
              "      <td>NaN</td>\n",
              "      <td>NaN</td>\n",
              "      <td>2009-04-12</td>\n",
              "      <td>...</td>\n",
              "      <td>2724</td>\n",
              "      <td>19889</td>\n",
              "      <td>5849</td>\n",
              "      <td>NaN</td>\n",
              "      <td>NaN</td>\n",
              "      <td>NaN</td>\n",
              "      <td>NaN</td>\n",
              "      <td>NaN</td>\n",
              "      <td>NaN</td>\n",
              "      <td>NaN</td>\n",
              "    </tr>\n",
              "    <tr>\n",
              "      <th>1</th>\n",
              "      <td>BENE11001</td>\n",
              "      <td>CLM66048</td>\n",
              "      <td>2009-08-31</td>\n",
              "      <td>2009-09-02</td>\n",
              "      <td>PRV55907</td>\n",
              "      <td>5000</td>\n",
              "      <td>PHY318495</td>\n",
              "      <td>PHY318495</td>\n",
              "      <td>NaN</td>\n",
              "      <td>2009-08-31</td>\n",
              "      <td>...</td>\n",
              "      <td>NaN</td>\n",
              "      <td>NaN</td>\n",
              "      <td>NaN</td>\n",
              "      <td>NaN</td>\n",
              "      <td>7092.0</td>\n",
              "      <td>NaN</td>\n",
              "      <td>NaN</td>\n",
              "      <td>NaN</td>\n",
              "      <td>NaN</td>\n",
              "      <td>NaN</td>\n",
              "    </tr>\n",
              "    <tr>\n",
              "      <th>2</th>\n",
              "      <td>BENE11001</td>\n",
              "      <td>CLM68358</td>\n",
              "      <td>2009-09-17</td>\n",
              "      <td>2009-09-20</td>\n",
              "      <td>PRV56046</td>\n",
              "      <td>5000</td>\n",
              "      <td>PHY372395</td>\n",
              "      <td>NaN</td>\n",
              "      <td>PHY324689</td>\n",
              "      <td>2009-09-17</td>\n",
              "      <td>...</td>\n",
              "      <td>NaN</td>\n",
              "      <td>NaN</td>\n",
              "      <td>NaN</td>\n",
              "      <td>NaN</td>\n",
              "      <td>NaN</td>\n",
              "      <td>NaN</td>\n",
              "      <td>NaN</td>\n",
              "      <td>NaN</td>\n",
              "      <td>NaN</td>\n",
              "      <td>NaN</td>\n",
              "    </tr>\n",
              "    <tr>\n",
              "      <th>3</th>\n",
              "      <td>BENE11011</td>\n",
              "      <td>CLM38412</td>\n",
              "      <td>2009-02-14</td>\n",
              "      <td>2009-02-22</td>\n",
              "      <td>PRV52405</td>\n",
              "      <td>5000</td>\n",
              "      <td>PHY369659</td>\n",
              "      <td>PHY392961</td>\n",
              "      <td>PHY349768</td>\n",
              "      <td>2009-02-14</td>\n",
              "      <td>...</td>\n",
              "      <td>25062</td>\n",
              "      <td>40390</td>\n",
              "      <td>4019</td>\n",
              "      <td>NaN</td>\n",
              "      <td>331.0</td>\n",
              "      <td>NaN</td>\n",
              "      <td>NaN</td>\n",
              "      <td>NaN</td>\n",
              "      <td>NaN</td>\n",
              "      <td>NaN</td>\n",
              "    </tr>\n",
              "    <tr>\n",
              "      <th>4</th>\n",
              "      <td>BENE11014</td>\n",
              "      <td>CLM63689</td>\n",
              "      <td>2009-08-13</td>\n",
              "      <td>2009-08-30</td>\n",
              "      <td>PRV56614</td>\n",
              "      <td>10000</td>\n",
              "      <td>PHY379376</td>\n",
              "      <td>PHY398258</td>\n",
              "      <td>NaN</td>\n",
              "      <td>2009-08-13</td>\n",
              "      <td>...</td>\n",
              "      <td>5119</td>\n",
              "      <td>29620</td>\n",
              "      <td>20300</td>\n",
              "      <td>NaN</td>\n",
              "      <td>3893.0</td>\n",
              "      <td>NaN</td>\n",
              "      <td>NaN</td>\n",
              "      <td>NaN</td>\n",
              "      <td>NaN</td>\n",
              "      <td>NaN</td>\n",
              "    </tr>\n",
              "  </tbody>\n",
              "</table>\n",
              "<p>5 rows × 30 columns</p>\n",
              "</div>"
            ],
            "text/plain": [
              "      BeneID   ClaimID ClaimStartDt  ClaimEndDt  Provider  \\\n",
              "0  BENE11001  CLM46614   2009-04-12  2009-04-18  PRV55912   \n",
              "1  BENE11001  CLM66048   2009-08-31  2009-09-02  PRV55907   \n",
              "2  BENE11001  CLM68358   2009-09-17  2009-09-20  PRV56046   \n",
              "3  BENE11011  CLM38412   2009-02-14  2009-02-22  PRV52405   \n",
              "4  BENE11014  CLM63689   2009-08-13  2009-08-30  PRV56614   \n",
              "\n",
              "   InscClaimAmtReimbursed AttendingPhysician OperatingPhysician  \\\n",
              "0                   26000          PHY390922                NaN   \n",
              "1                    5000          PHY318495          PHY318495   \n",
              "2                    5000          PHY372395                NaN   \n",
              "3                    5000          PHY369659          PHY392961   \n",
              "4                   10000          PHY379376          PHY398258   \n",
              "\n",
              "  OtherPhysician AdmissionDt  ... ClmDiagnosisCode_7  ClmDiagnosisCode_8  \\\n",
              "0            NaN  2009-04-12  ...               2724               19889   \n",
              "1            NaN  2009-08-31  ...                NaN                 NaN   \n",
              "2      PHY324689  2009-09-17  ...                NaN                 NaN   \n",
              "3      PHY349768  2009-02-14  ...              25062               40390   \n",
              "4            NaN  2009-08-13  ...               5119               29620   \n",
              "\n",
              "  ClmDiagnosisCode_9 ClmDiagnosisCode_10 ClmProcedureCode_1  \\\n",
              "0               5849                 NaN                NaN   \n",
              "1                NaN                 NaN             7092.0   \n",
              "2                NaN                 NaN                NaN   \n",
              "3               4019                 NaN              331.0   \n",
              "4              20300                 NaN             3893.0   \n",
              "\n",
              "  ClmProcedureCode_2 ClmProcedureCode_3 ClmProcedureCode_4 ClmProcedureCode_5  \\\n",
              "0                NaN                NaN                NaN                NaN   \n",
              "1                NaN                NaN                NaN                NaN   \n",
              "2                NaN                NaN                NaN                NaN   \n",
              "3                NaN                NaN                NaN                NaN   \n",
              "4                NaN                NaN                NaN                NaN   \n",
              "\n",
              "  ClmProcedureCode_6  \n",
              "0                NaN  \n",
              "1                NaN  \n",
              "2                NaN  \n",
              "3                NaN  \n",
              "4                NaN  \n",
              "\n",
              "[5 rows x 30 columns]"
            ]
          },
          "metadata": {
            "tags": []
          },
          "execution_count": 4
        }
      ]
    },
    {
      "cell_type": "code",
      "metadata": {
        "scrolled": false,
        "id": "C_uq-lFg4J6n",
        "outputId": "7dc06e28-d002-402b-9bd4-fb136d7e8ca5"
      },
      "source": [
        "outpatient_df.head()"
      ],
      "execution_count": null,
      "outputs": [
        {
          "output_type": "execute_result",
          "data": {
            "text/html": [
              "<div>\n",
              "<style scoped>\n",
              "    .dataframe tbody tr th:only-of-type {\n",
              "        vertical-align: middle;\n",
              "    }\n",
              "\n",
              "    .dataframe tbody tr th {\n",
              "        vertical-align: top;\n",
              "    }\n",
              "\n",
              "    .dataframe thead th {\n",
              "        text-align: right;\n",
              "    }\n",
              "</style>\n",
              "<table border=\"1\" class=\"dataframe\">\n",
              "  <thead>\n",
              "    <tr style=\"text-align: right;\">\n",
              "      <th></th>\n",
              "      <th>BeneID</th>\n",
              "      <th>ClaimID</th>\n",
              "      <th>ClaimStartDt</th>\n",
              "      <th>ClaimEndDt</th>\n",
              "      <th>Provider</th>\n",
              "      <th>InscClaimAmtReimbursed</th>\n",
              "      <th>AttendingPhysician</th>\n",
              "      <th>OperatingPhysician</th>\n",
              "      <th>OtherPhysician</th>\n",
              "      <th>ClmDiagnosisCode_1</th>\n",
              "      <th>...</th>\n",
              "      <th>ClmDiagnosisCode_9</th>\n",
              "      <th>ClmDiagnosisCode_10</th>\n",
              "      <th>ClmProcedureCode_1</th>\n",
              "      <th>ClmProcedureCode_2</th>\n",
              "      <th>ClmProcedureCode_3</th>\n",
              "      <th>ClmProcedureCode_4</th>\n",
              "      <th>ClmProcedureCode_5</th>\n",
              "      <th>ClmProcedureCode_6</th>\n",
              "      <th>DeductibleAmtPaid</th>\n",
              "      <th>ClmAdmitDiagnosisCode</th>\n",
              "    </tr>\n",
              "  </thead>\n",
              "  <tbody>\n",
              "    <tr>\n",
              "      <th>0</th>\n",
              "      <td>BENE11002</td>\n",
              "      <td>CLM624349</td>\n",
              "      <td>2009-10-11</td>\n",
              "      <td>2009-10-11</td>\n",
              "      <td>PRV56011</td>\n",
              "      <td>30</td>\n",
              "      <td>PHY326117</td>\n",
              "      <td>NaN</td>\n",
              "      <td>NaN</td>\n",
              "      <td>78943</td>\n",
              "      <td>...</td>\n",
              "      <td>NaN</td>\n",
              "      <td>NaN</td>\n",
              "      <td>NaN</td>\n",
              "      <td>NaN</td>\n",
              "      <td>NaN</td>\n",
              "      <td>NaN</td>\n",
              "      <td>NaN</td>\n",
              "      <td>NaN</td>\n",
              "      <td>0</td>\n",
              "      <td>56409</td>\n",
              "    </tr>\n",
              "    <tr>\n",
              "      <th>1</th>\n",
              "      <td>BENE11003</td>\n",
              "      <td>CLM189947</td>\n",
              "      <td>2009-02-12</td>\n",
              "      <td>2009-02-12</td>\n",
              "      <td>PRV57610</td>\n",
              "      <td>80</td>\n",
              "      <td>PHY362868</td>\n",
              "      <td>NaN</td>\n",
              "      <td>NaN</td>\n",
              "      <td>6115</td>\n",
              "      <td>...</td>\n",
              "      <td>NaN</td>\n",
              "      <td>NaN</td>\n",
              "      <td>NaN</td>\n",
              "      <td>NaN</td>\n",
              "      <td>NaN</td>\n",
              "      <td>NaN</td>\n",
              "      <td>NaN</td>\n",
              "      <td>NaN</td>\n",
              "      <td>0</td>\n",
              "      <td>79380</td>\n",
              "    </tr>\n",
              "    <tr>\n",
              "      <th>2</th>\n",
              "      <td>BENE11003</td>\n",
              "      <td>CLM438021</td>\n",
              "      <td>2009-06-27</td>\n",
              "      <td>2009-06-27</td>\n",
              "      <td>PRV57595</td>\n",
              "      <td>10</td>\n",
              "      <td>PHY328821</td>\n",
              "      <td>NaN</td>\n",
              "      <td>NaN</td>\n",
              "      <td>2723</td>\n",
              "      <td>...</td>\n",
              "      <td>NaN</td>\n",
              "      <td>NaN</td>\n",
              "      <td>NaN</td>\n",
              "      <td>NaN</td>\n",
              "      <td>NaN</td>\n",
              "      <td>NaN</td>\n",
              "      <td>NaN</td>\n",
              "      <td>NaN</td>\n",
              "      <td>0</td>\n",
              "      <td>NaN</td>\n",
              "    </tr>\n",
              "    <tr>\n",
              "      <th>3</th>\n",
              "      <td>BENE11004</td>\n",
              "      <td>CLM121801</td>\n",
              "      <td>2009-01-06</td>\n",
              "      <td>2009-01-06</td>\n",
              "      <td>PRV56011</td>\n",
              "      <td>40</td>\n",
              "      <td>PHY334319</td>\n",
              "      <td>NaN</td>\n",
              "      <td>NaN</td>\n",
              "      <td>71988</td>\n",
              "      <td>...</td>\n",
              "      <td>NaN</td>\n",
              "      <td>NaN</td>\n",
              "      <td>NaN</td>\n",
              "      <td>NaN</td>\n",
              "      <td>NaN</td>\n",
              "      <td>NaN</td>\n",
              "      <td>NaN</td>\n",
              "      <td>NaN</td>\n",
              "      <td>0</td>\n",
              "      <td>NaN</td>\n",
              "    </tr>\n",
              "    <tr>\n",
              "      <th>4</th>\n",
              "      <td>BENE11004</td>\n",
              "      <td>CLM150998</td>\n",
              "      <td>2009-01-22</td>\n",
              "      <td>2009-01-22</td>\n",
              "      <td>PRV56011</td>\n",
              "      <td>200</td>\n",
              "      <td>PHY403831</td>\n",
              "      <td>NaN</td>\n",
              "      <td>NaN</td>\n",
              "      <td>82382</td>\n",
              "      <td>...</td>\n",
              "      <td>NaN</td>\n",
              "      <td>NaN</td>\n",
              "      <td>NaN</td>\n",
              "      <td>NaN</td>\n",
              "      <td>NaN</td>\n",
              "      <td>NaN</td>\n",
              "      <td>NaN</td>\n",
              "      <td>NaN</td>\n",
              "      <td>0</td>\n",
              "      <td>71947</td>\n",
              "    </tr>\n",
              "  </tbody>\n",
              "</table>\n",
              "<p>5 rows × 27 columns</p>\n",
              "</div>"
            ],
            "text/plain": [
              "      BeneID    ClaimID ClaimStartDt  ClaimEndDt  Provider  \\\n",
              "0  BENE11002  CLM624349   2009-10-11  2009-10-11  PRV56011   \n",
              "1  BENE11003  CLM189947   2009-02-12  2009-02-12  PRV57610   \n",
              "2  BENE11003  CLM438021   2009-06-27  2009-06-27  PRV57595   \n",
              "3  BENE11004  CLM121801   2009-01-06  2009-01-06  PRV56011   \n",
              "4  BENE11004  CLM150998   2009-01-22  2009-01-22  PRV56011   \n",
              "\n",
              "   InscClaimAmtReimbursed AttendingPhysician OperatingPhysician  \\\n",
              "0                      30          PHY326117                NaN   \n",
              "1                      80          PHY362868                NaN   \n",
              "2                      10          PHY328821                NaN   \n",
              "3                      40          PHY334319                NaN   \n",
              "4                     200          PHY403831                NaN   \n",
              "\n",
              "  OtherPhysician ClmDiagnosisCode_1  ... ClmDiagnosisCode_9  \\\n",
              "0            NaN              78943  ...                NaN   \n",
              "1            NaN               6115  ...                NaN   \n",
              "2            NaN               2723  ...                NaN   \n",
              "3            NaN              71988  ...                NaN   \n",
              "4            NaN              82382  ...                NaN   \n",
              "\n",
              "  ClmDiagnosisCode_10 ClmProcedureCode_1 ClmProcedureCode_2  \\\n",
              "0                 NaN                NaN                NaN   \n",
              "1                 NaN                NaN                NaN   \n",
              "2                 NaN                NaN                NaN   \n",
              "3                 NaN                NaN                NaN   \n",
              "4                 NaN                NaN                NaN   \n",
              "\n",
              "  ClmProcedureCode_3 ClmProcedureCode_4 ClmProcedureCode_5 ClmProcedureCode_6  \\\n",
              "0                NaN                NaN                NaN                NaN   \n",
              "1                NaN                NaN                NaN                NaN   \n",
              "2                NaN                NaN                NaN                NaN   \n",
              "3                NaN                NaN                NaN                NaN   \n",
              "4                NaN                NaN                NaN                NaN   \n",
              "\n",
              "  DeductibleAmtPaid  ClmAdmitDiagnosisCode  \n",
              "0                 0                  56409  \n",
              "1                 0                  79380  \n",
              "2                 0                    NaN  \n",
              "3                 0                    NaN  \n",
              "4                 0                  71947  \n",
              "\n",
              "[5 rows x 27 columns]"
            ]
          },
          "metadata": {
            "tags": []
          },
          "execution_count": 5
        }
      ]
    },
    {
      "cell_type": "markdown",
      "metadata": {
        "id": "flIt6_7-4J6o"
      },
      "source": [
        "***\n",
        "# `Data overview`"
      ]
    },
    {
      "cell_type": "code",
      "metadata": {
        "id": "eeBygVLH4J6o",
        "outputId": "5a291e84-3e7f-43af-e53f-2086eaf56376"
      },
      "source": [
        "benefitial_df.info()"
      ],
      "execution_count": null,
      "outputs": [
        {
          "output_type": "stream",
          "text": [
            "<class 'pandas.core.frame.DataFrame'>\n",
            "RangeIndex: 138556 entries, 0 to 138555\n",
            "Data columns (total 25 columns):\n",
            " #   Column                           Non-Null Count   Dtype \n",
            "---  ------                           --------------   ----- \n",
            " 0   BeneID                           138556 non-null  object\n",
            " 1   DOB                              138556 non-null  object\n",
            " 2   DOD                              1421 non-null    object\n",
            " 3   Gender                           138556 non-null  int64 \n",
            " 4   Race                             138556 non-null  int64 \n",
            " 5   RenalDiseaseIndicator            138556 non-null  object\n",
            " 6   State                            138556 non-null  int64 \n",
            " 7   County                           138556 non-null  int64 \n",
            " 8   NoOfMonths_PartACov              138556 non-null  int64 \n",
            " 9   NoOfMonths_PartBCov              138556 non-null  int64 \n",
            " 10  ChronicCond_Alzheimer            138556 non-null  int64 \n",
            " 11  ChronicCond_Heartfailure         138556 non-null  int64 \n",
            " 12  ChronicCond_KidneyDisease        138556 non-null  int64 \n",
            " 13  ChronicCond_Cancer               138556 non-null  int64 \n",
            " 14  ChronicCond_ObstrPulmonary       138556 non-null  int64 \n",
            " 15  ChronicCond_Depression           138556 non-null  int64 \n",
            " 16  ChronicCond_Diabetes             138556 non-null  int64 \n",
            " 17  ChronicCond_IschemicHeart        138556 non-null  int64 \n",
            " 18  ChronicCond_Osteoporasis         138556 non-null  int64 \n",
            " 19  ChronicCond_rheumatoidarthritis  138556 non-null  int64 \n",
            " 20  ChronicCond_stroke               138556 non-null  int64 \n",
            " 21  IPAnnualReimbursementAmt         138556 non-null  int64 \n",
            " 22  IPAnnualDeductibleAmt            138556 non-null  int64 \n",
            " 23  OPAnnualReimbursementAmt         138556 non-null  int64 \n",
            " 24  OPAnnualDeductibleAmt            138556 non-null  int64 \n",
            "dtypes: int64(21), object(4)\n",
            "memory usage: 26.4+ MB\n"
          ],
          "name": "stdout"
        }
      ]
    },
    {
      "cell_type": "code",
      "metadata": {
        "id": "odcRGa1l4J6p",
        "outputId": "131808e3-2598-4541-b1b5-9ae20d319574"
      },
      "source": [
        "inpatient_df.info()"
      ],
      "execution_count": null,
      "outputs": [
        {
          "output_type": "stream",
          "text": [
            "<class 'pandas.core.frame.DataFrame'>\n",
            "RangeIndex: 40474 entries, 0 to 40473\n",
            "Data columns (total 30 columns):\n",
            " #   Column                  Non-Null Count  Dtype  \n",
            "---  ------                  --------------  -----  \n",
            " 0   BeneID                  40474 non-null  object \n",
            " 1   ClaimID                 40474 non-null  object \n",
            " 2   ClaimStartDt            40474 non-null  object \n",
            " 3   ClaimEndDt              40474 non-null  object \n",
            " 4   Provider                40474 non-null  object \n",
            " 5   InscClaimAmtReimbursed  40474 non-null  int64  \n",
            " 6   AttendingPhysician      40362 non-null  object \n",
            " 7   OperatingPhysician      23830 non-null  object \n",
            " 8   OtherPhysician          4690 non-null   object \n",
            " 9   AdmissionDt             40474 non-null  object \n",
            " 10  ClmAdmitDiagnosisCode   40474 non-null  object \n",
            " 11  DeductibleAmtPaid       39575 non-null  float64\n",
            " 12  DischargeDt             40474 non-null  object \n",
            " 13  DiagnosisGroupCode      40474 non-null  object \n",
            " 14  ClmDiagnosisCode_1      40474 non-null  object \n",
            " 15  ClmDiagnosisCode_2      40248 non-null  object \n",
            " 16  ClmDiagnosisCode_3      39798 non-null  object \n",
            " 17  ClmDiagnosisCode_4      38940 non-null  object \n",
            " 18  ClmDiagnosisCode_5      37580 non-null  object \n",
            " 19  ClmDiagnosisCode_6      35636 non-null  object \n",
            " 20  ClmDiagnosisCode_7      33216 non-null  object \n",
            " 21  ClmDiagnosisCode_8      30532 non-null  object \n",
            " 22  ClmDiagnosisCode_9      26977 non-null  object \n",
            " 23  ClmDiagnosisCode_10     3927 non-null   object \n",
            " 24  ClmProcedureCode_1      23148 non-null  float64\n",
            " 25  ClmProcedureCode_2      5454 non-null   float64\n",
            " 26  ClmProcedureCode_3      965 non-null    float64\n",
            " 27  ClmProcedureCode_4      116 non-null    float64\n",
            " 28  ClmProcedureCode_5      9 non-null      float64\n",
            " 29  ClmProcedureCode_6      0 non-null      float64\n",
            "dtypes: float64(7), int64(1), object(22)\n",
            "memory usage: 9.3+ MB\n"
          ],
          "name": "stdout"
        }
      ]
    },
    {
      "cell_type": "code",
      "metadata": {
        "id": "JQc9hylI4J6p",
        "outputId": "390d4f2a-1e3a-4fb8-895e-d061025e904d"
      },
      "source": [
        "outpatient_df.info()"
      ],
      "execution_count": null,
      "outputs": [
        {
          "output_type": "stream",
          "text": [
            "<class 'pandas.core.frame.DataFrame'>\n",
            "RangeIndex: 517737 entries, 0 to 517736\n",
            "Data columns (total 27 columns):\n",
            " #   Column                  Non-Null Count   Dtype  \n",
            "---  ------                  --------------   -----  \n",
            " 0   BeneID                  517737 non-null  object \n",
            " 1   ClaimID                 517737 non-null  object \n",
            " 2   ClaimStartDt            517737 non-null  object \n",
            " 3   ClaimEndDt              517737 non-null  object \n",
            " 4   Provider                517737 non-null  object \n",
            " 5   InscClaimAmtReimbursed  517737 non-null  int64  \n",
            " 6   AttendingPhysician      516341 non-null  object \n",
            " 7   OperatingPhysician      90617 non-null   object \n",
            " 8   OtherPhysician          195046 non-null  object \n",
            " 9   ClmDiagnosisCode_1      507284 non-null  object \n",
            " 10  ClmDiagnosisCode_2      322357 non-null  object \n",
            " 11  ClmDiagnosisCode_3      203257 non-null  object \n",
            " 12  ClmDiagnosisCode_4      125596 non-null  object \n",
            " 13  ClmDiagnosisCode_5      74344 non-null   object \n",
            " 14  ClmDiagnosisCode_6      48756 non-null   object \n",
            " 15  ClmDiagnosisCode_7      32961 non-null   object \n",
            " 16  ClmDiagnosisCode_8      22912 non-null   object \n",
            " 17  ClmDiagnosisCode_9      14838 non-null   object \n",
            " 18  ClmDiagnosisCode_10     1083 non-null    object \n",
            " 19  ClmProcedureCode_1      162 non-null     float64\n",
            " 20  ClmProcedureCode_2      36 non-null      float64\n",
            " 21  ClmProcedureCode_3      4 non-null       float64\n",
            " 22  ClmProcedureCode_4      2 non-null       float64\n",
            " 23  ClmProcedureCode_5      0 non-null       float64\n",
            " 24  ClmProcedureCode_6      0 non-null       float64\n",
            " 25  DeductibleAmtPaid       517737 non-null  int64  \n",
            " 26  ClmAdmitDiagnosisCode   105425 non-null  object \n",
            "dtypes: float64(6), int64(2), object(19)\n",
            "memory usage: 106.7+ MB\n"
          ],
          "name": "stdout"
        }
      ]
    },
    {
      "cell_type": "markdown",
      "metadata": {
        "id": "f_9E8qC24J6p"
      },
      "source": [
        "***\n",
        "# `Investigating the Beneficiary patients dataset`"
      ]
    },
    {
      "cell_type": "code",
      "metadata": {
        "id": "uQbmhh0s4J6q",
        "outputId": "461fd989-b250-411e-8c55-adde445cb6c9"
      },
      "source": [
        "benefitial_df"
      ],
      "execution_count": null,
      "outputs": [
        {
          "output_type": "execute_result",
          "data": {
            "text/html": [
              "<div>\n",
              "<style scoped>\n",
              "    .dataframe tbody tr th:only-of-type {\n",
              "        vertical-align: middle;\n",
              "    }\n",
              "\n",
              "    .dataframe tbody tr th {\n",
              "        vertical-align: top;\n",
              "    }\n",
              "\n",
              "    .dataframe thead th {\n",
              "        text-align: right;\n",
              "    }\n",
              "</style>\n",
              "<table border=\"1\" class=\"dataframe\">\n",
              "  <thead>\n",
              "    <tr style=\"text-align: right;\">\n",
              "      <th></th>\n",
              "      <th>BeneID</th>\n",
              "      <th>DOB</th>\n",
              "      <th>DOD</th>\n",
              "      <th>Gender</th>\n",
              "      <th>Race</th>\n",
              "      <th>RenalDiseaseIndicator</th>\n",
              "      <th>State</th>\n",
              "      <th>County</th>\n",
              "      <th>NoOfMonths_PartACov</th>\n",
              "      <th>NoOfMonths_PartBCov</th>\n",
              "      <th>...</th>\n",
              "      <th>ChronicCond_Depression</th>\n",
              "      <th>ChronicCond_Diabetes</th>\n",
              "      <th>ChronicCond_IschemicHeart</th>\n",
              "      <th>ChronicCond_Osteoporasis</th>\n",
              "      <th>ChronicCond_rheumatoidarthritis</th>\n",
              "      <th>ChronicCond_stroke</th>\n",
              "      <th>IPAnnualReimbursementAmt</th>\n",
              "      <th>IPAnnualDeductibleAmt</th>\n",
              "      <th>OPAnnualReimbursementAmt</th>\n",
              "      <th>OPAnnualDeductibleAmt</th>\n",
              "    </tr>\n",
              "  </thead>\n",
              "  <tbody>\n",
              "    <tr>\n",
              "      <th>0</th>\n",
              "      <td>BENE11001</td>\n",
              "      <td>1943-01-01</td>\n",
              "      <td>NaN</td>\n",
              "      <td>1</td>\n",
              "      <td>1</td>\n",
              "      <td>0</td>\n",
              "      <td>39</td>\n",
              "      <td>230</td>\n",
              "      <td>12</td>\n",
              "      <td>12</td>\n",
              "      <td>...</td>\n",
              "      <td>1</td>\n",
              "      <td>1</td>\n",
              "      <td>1</td>\n",
              "      <td>2</td>\n",
              "      <td>1</td>\n",
              "      <td>1</td>\n",
              "      <td>36000</td>\n",
              "      <td>3204</td>\n",
              "      <td>60</td>\n",
              "      <td>70</td>\n",
              "    </tr>\n",
              "    <tr>\n",
              "      <th>1</th>\n",
              "      <td>BENE11002</td>\n",
              "      <td>1936-09-01</td>\n",
              "      <td>NaN</td>\n",
              "      <td>2</td>\n",
              "      <td>1</td>\n",
              "      <td>0</td>\n",
              "      <td>39</td>\n",
              "      <td>280</td>\n",
              "      <td>12</td>\n",
              "      <td>12</td>\n",
              "      <td>...</td>\n",
              "      <td>2</td>\n",
              "      <td>2</td>\n",
              "      <td>2</td>\n",
              "      <td>2</td>\n",
              "      <td>2</td>\n",
              "      <td>2</td>\n",
              "      <td>0</td>\n",
              "      <td>0</td>\n",
              "      <td>30</td>\n",
              "      <td>50</td>\n",
              "    </tr>\n",
              "    <tr>\n",
              "      <th>2</th>\n",
              "      <td>BENE11003</td>\n",
              "      <td>1936-08-01</td>\n",
              "      <td>NaN</td>\n",
              "      <td>1</td>\n",
              "      <td>1</td>\n",
              "      <td>0</td>\n",
              "      <td>52</td>\n",
              "      <td>590</td>\n",
              "      <td>12</td>\n",
              "      <td>12</td>\n",
              "      <td>...</td>\n",
              "      <td>2</td>\n",
              "      <td>2</td>\n",
              "      <td>1</td>\n",
              "      <td>2</td>\n",
              "      <td>2</td>\n",
              "      <td>2</td>\n",
              "      <td>0</td>\n",
              "      <td>0</td>\n",
              "      <td>90</td>\n",
              "      <td>40</td>\n",
              "    </tr>\n",
              "    <tr>\n",
              "      <th>3</th>\n",
              "      <td>BENE11004</td>\n",
              "      <td>1922-07-01</td>\n",
              "      <td>NaN</td>\n",
              "      <td>1</td>\n",
              "      <td>1</td>\n",
              "      <td>0</td>\n",
              "      <td>39</td>\n",
              "      <td>270</td>\n",
              "      <td>12</td>\n",
              "      <td>12</td>\n",
              "      <td>...</td>\n",
              "      <td>2</td>\n",
              "      <td>1</td>\n",
              "      <td>1</td>\n",
              "      <td>1</td>\n",
              "      <td>1</td>\n",
              "      <td>2</td>\n",
              "      <td>0</td>\n",
              "      <td>0</td>\n",
              "      <td>1810</td>\n",
              "      <td>760</td>\n",
              "    </tr>\n",
              "    <tr>\n",
              "      <th>4</th>\n",
              "      <td>BENE11005</td>\n",
              "      <td>1935-09-01</td>\n",
              "      <td>NaN</td>\n",
              "      <td>1</td>\n",
              "      <td>1</td>\n",
              "      <td>0</td>\n",
              "      <td>24</td>\n",
              "      <td>680</td>\n",
              "      <td>12</td>\n",
              "      <td>12</td>\n",
              "      <td>...</td>\n",
              "      <td>2</td>\n",
              "      <td>1</td>\n",
              "      <td>2</td>\n",
              "      <td>2</td>\n",
              "      <td>2</td>\n",
              "      <td>2</td>\n",
              "      <td>0</td>\n",
              "      <td>0</td>\n",
              "      <td>1790</td>\n",
              "      <td>1200</td>\n",
              "    </tr>\n",
              "    <tr>\n",
              "      <th>...</th>\n",
              "      <td>...</td>\n",
              "      <td>...</td>\n",
              "      <td>...</td>\n",
              "      <td>...</td>\n",
              "      <td>...</td>\n",
              "      <td>...</td>\n",
              "      <td>...</td>\n",
              "      <td>...</td>\n",
              "      <td>...</td>\n",
              "      <td>...</td>\n",
              "      <td>...</td>\n",
              "      <td>...</td>\n",
              "      <td>...</td>\n",
              "      <td>...</td>\n",
              "      <td>...</td>\n",
              "      <td>...</td>\n",
              "      <td>...</td>\n",
              "      <td>...</td>\n",
              "      <td>...</td>\n",
              "      <td>...</td>\n",
              "      <td>...</td>\n",
              "    </tr>\n",
              "    <tr>\n",
              "      <th>138551</th>\n",
              "      <td>BENE159194</td>\n",
              "      <td>1939-07-01</td>\n",
              "      <td>NaN</td>\n",
              "      <td>1</td>\n",
              "      <td>1</td>\n",
              "      <td>0</td>\n",
              "      <td>39</td>\n",
              "      <td>140</td>\n",
              "      <td>12</td>\n",
              "      <td>12</td>\n",
              "      <td>...</td>\n",
              "      <td>2</td>\n",
              "      <td>2</td>\n",
              "      <td>2</td>\n",
              "      <td>2</td>\n",
              "      <td>2</td>\n",
              "      <td>2</td>\n",
              "      <td>0</td>\n",
              "      <td>0</td>\n",
              "      <td>430</td>\n",
              "      <td>460</td>\n",
              "    </tr>\n",
              "    <tr>\n",
              "      <th>138552</th>\n",
              "      <td>BENE159195</td>\n",
              "      <td>1938-12-01</td>\n",
              "      <td>NaN</td>\n",
              "      <td>2</td>\n",
              "      <td>1</td>\n",
              "      <td>0</td>\n",
              "      <td>49</td>\n",
              "      <td>530</td>\n",
              "      <td>12</td>\n",
              "      <td>12</td>\n",
              "      <td>...</td>\n",
              "      <td>2</td>\n",
              "      <td>1</td>\n",
              "      <td>2</td>\n",
              "      <td>2</td>\n",
              "      <td>2</td>\n",
              "      <td>2</td>\n",
              "      <td>0</td>\n",
              "      <td>0</td>\n",
              "      <td>880</td>\n",
              "      <td>100</td>\n",
              "    </tr>\n",
              "    <tr>\n",
              "      <th>138553</th>\n",
              "      <td>BENE159196</td>\n",
              "      <td>1916-06-01</td>\n",
              "      <td>NaN</td>\n",
              "      <td>2</td>\n",
              "      <td>1</td>\n",
              "      <td>0</td>\n",
              "      <td>6</td>\n",
              "      <td>150</td>\n",
              "      <td>12</td>\n",
              "      <td>12</td>\n",
              "      <td>...</td>\n",
              "      <td>1</td>\n",
              "      <td>1</td>\n",
              "      <td>1</td>\n",
              "      <td>2</td>\n",
              "      <td>2</td>\n",
              "      <td>2</td>\n",
              "      <td>2000</td>\n",
              "      <td>1068</td>\n",
              "      <td>3240</td>\n",
              "      <td>1390</td>\n",
              "    </tr>\n",
              "    <tr>\n",
              "      <th>138554</th>\n",
              "      <td>BENE159197</td>\n",
              "      <td>1930-01-01</td>\n",
              "      <td>NaN</td>\n",
              "      <td>1</td>\n",
              "      <td>1</td>\n",
              "      <td>0</td>\n",
              "      <td>16</td>\n",
              "      <td>560</td>\n",
              "      <td>12</td>\n",
              "      <td>12</td>\n",
              "      <td>...</td>\n",
              "      <td>2</td>\n",
              "      <td>2</td>\n",
              "      <td>1</td>\n",
              "      <td>2</td>\n",
              "      <td>2</td>\n",
              "      <td>2</td>\n",
              "      <td>0</td>\n",
              "      <td>0</td>\n",
              "      <td>2650</td>\n",
              "      <td>10</td>\n",
              "    </tr>\n",
              "    <tr>\n",
              "      <th>138555</th>\n",
              "      <td>BENE159198</td>\n",
              "      <td>1952-04-01</td>\n",
              "      <td>NaN</td>\n",
              "      <td>2</td>\n",
              "      <td>1</td>\n",
              "      <td>0</td>\n",
              "      <td>21</td>\n",
              "      <td>20</td>\n",
              "      <td>12</td>\n",
              "      <td>12</td>\n",
              "      <td>...</td>\n",
              "      <td>1</td>\n",
              "      <td>1</td>\n",
              "      <td>2</td>\n",
              "      <td>2</td>\n",
              "      <td>1</td>\n",
              "      <td>2</td>\n",
              "      <td>0</td>\n",
              "      <td>0</td>\n",
              "      <td>5470</td>\n",
              "      <td>1870</td>\n",
              "    </tr>\n",
              "  </tbody>\n",
              "</table>\n",
              "<p>138556 rows × 25 columns</p>\n",
              "</div>"
            ],
            "text/plain": [
              "            BeneID         DOB  DOD  Gender  Race RenalDiseaseIndicator  \\\n",
              "0        BENE11001  1943-01-01  NaN       1     1                     0   \n",
              "1        BENE11002  1936-09-01  NaN       2     1                     0   \n",
              "2        BENE11003  1936-08-01  NaN       1     1                     0   \n",
              "3        BENE11004  1922-07-01  NaN       1     1                     0   \n",
              "4        BENE11005  1935-09-01  NaN       1     1                     0   \n",
              "...            ...         ...  ...     ...   ...                   ...   \n",
              "138551  BENE159194  1939-07-01  NaN       1     1                     0   \n",
              "138552  BENE159195  1938-12-01  NaN       2     1                     0   \n",
              "138553  BENE159196  1916-06-01  NaN       2     1                     0   \n",
              "138554  BENE159197  1930-01-01  NaN       1     1                     0   \n",
              "138555  BENE159198  1952-04-01  NaN       2     1                     0   \n",
              "\n",
              "        State  County  NoOfMonths_PartACov  NoOfMonths_PartBCov  ...  \\\n",
              "0          39     230                   12                   12  ...   \n",
              "1          39     280                   12                   12  ...   \n",
              "2          52     590                   12                   12  ...   \n",
              "3          39     270                   12                   12  ...   \n",
              "4          24     680                   12                   12  ...   \n",
              "...       ...     ...                  ...                  ...  ...   \n",
              "138551     39     140                   12                   12  ...   \n",
              "138552     49     530                   12                   12  ...   \n",
              "138553      6     150                   12                   12  ...   \n",
              "138554     16     560                   12                   12  ...   \n",
              "138555     21      20                   12                   12  ...   \n",
              "\n",
              "        ChronicCond_Depression  ChronicCond_Diabetes  \\\n",
              "0                            1                     1   \n",
              "1                            2                     2   \n",
              "2                            2                     2   \n",
              "3                            2                     1   \n",
              "4                            2                     1   \n",
              "...                        ...                   ...   \n",
              "138551                       2                     2   \n",
              "138552                       2                     1   \n",
              "138553                       1                     1   \n",
              "138554                       2                     2   \n",
              "138555                       1                     1   \n",
              "\n",
              "        ChronicCond_IschemicHeart  ChronicCond_Osteoporasis  \\\n",
              "0                               1                         2   \n",
              "1                               2                         2   \n",
              "2                               1                         2   \n",
              "3                               1                         1   \n",
              "4                               2                         2   \n",
              "...                           ...                       ...   \n",
              "138551                          2                         2   \n",
              "138552                          2                         2   \n",
              "138553                          1                         2   \n",
              "138554                          1                         2   \n",
              "138555                          2                         2   \n",
              "\n",
              "        ChronicCond_rheumatoidarthritis  ChronicCond_stroke  \\\n",
              "0                                     1                   1   \n",
              "1                                     2                   2   \n",
              "2                                     2                   2   \n",
              "3                                     1                   2   \n",
              "4                                     2                   2   \n",
              "...                                 ...                 ...   \n",
              "138551                                2                   2   \n",
              "138552                                2                   2   \n",
              "138553                                2                   2   \n",
              "138554                                2                   2   \n",
              "138555                                1                   2   \n",
              "\n",
              "        IPAnnualReimbursementAmt  IPAnnualDeductibleAmt  \\\n",
              "0                          36000                   3204   \n",
              "1                              0                      0   \n",
              "2                              0                      0   \n",
              "3                              0                      0   \n",
              "4                              0                      0   \n",
              "...                          ...                    ...   \n",
              "138551                         0                      0   \n",
              "138552                         0                      0   \n",
              "138553                      2000                   1068   \n",
              "138554                         0                      0   \n",
              "138555                         0                      0   \n",
              "\n",
              "        OPAnnualReimbursementAmt  OPAnnualDeductibleAmt  \n",
              "0                             60                     70  \n",
              "1                             30                     50  \n",
              "2                             90                     40  \n",
              "3                           1810                    760  \n",
              "4                           1790                   1200  \n",
              "...                          ...                    ...  \n",
              "138551                       430                    460  \n",
              "138552                       880                    100  \n",
              "138553                      3240                   1390  \n",
              "138554                      2650                     10  \n",
              "138555                      5470                   1870  \n",
              "\n",
              "[138556 rows x 25 columns]"
            ]
          },
          "metadata": {
            "tags": []
          },
          "execution_count": 9
        }
      ]
    },
    {
      "cell_type": "markdown",
      "metadata": {
        "id": "V-3zY8b-4J6q"
      },
      "source": [
        "### Checking the percentage of the NaNs"
      ]
    },
    {
      "cell_type": "code",
      "metadata": {
        "scrolled": false,
        "id": "ICeVZN2P4J6q",
        "outputId": "2cc03904-2537-41b4-9588-9e063de61b35"
      },
      "source": [
        "# Check the percentage of Nan in dataset\n",
        "total = benefitial_df.isnull().sum().sort_values(ascending=False)\n",
        "percent = (benefitial_df.isnull().sum()/len(benefitial_df)).sort_values(ascending=False)\n",
        "missing_data = pd.concat([total, percent], axis=1, keys=['Total', 'Percent'])\n",
        "missing_data "
      ],
      "execution_count": null,
      "outputs": [
        {
          "output_type": "execute_result",
          "data": {
            "text/html": [
              "<div>\n",
              "<style scoped>\n",
              "    .dataframe tbody tr th:only-of-type {\n",
              "        vertical-align: middle;\n",
              "    }\n",
              "\n",
              "    .dataframe tbody tr th {\n",
              "        vertical-align: top;\n",
              "    }\n",
              "\n",
              "    .dataframe thead th {\n",
              "        text-align: right;\n",
              "    }\n",
              "</style>\n",
              "<table border=\"1\" class=\"dataframe\">\n",
              "  <thead>\n",
              "    <tr style=\"text-align: right;\">\n",
              "      <th></th>\n",
              "      <th>Total</th>\n",
              "      <th>Percent</th>\n",
              "    </tr>\n",
              "  </thead>\n",
              "  <tbody>\n",
              "    <tr>\n",
              "      <th>DOD</th>\n",
              "      <td>137135</td>\n",
              "      <td>0.989744</td>\n",
              "    </tr>\n",
              "    <tr>\n",
              "      <th>BeneID</th>\n",
              "      <td>0</td>\n",
              "      <td>0.000000</td>\n",
              "    </tr>\n",
              "    <tr>\n",
              "      <th>ChronicCond_Cancer</th>\n",
              "      <td>0</td>\n",
              "      <td>0.000000</td>\n",
              "    </tr>\n",
              "    <tr>\n",
              "      <th>OPAnnualReimbursementAmt</th>\n",
              "      <td>0</td>\n",
              "      <td>0.000000</td>\n",
              "    </tr>\n",
              "    <tr>\n",
              "      <th>IPAnnualDeductibleAmt</th>\n",
              "      <td>0</td>\n",
              "      <td>0.000000</td>\n",
              "    </tr>\n",
              "    <tr>\n",
              "      <th>IPAnnualReimbursementAmt</th>\n",
              "      <td>0</td>\n",
              "      <td>0.000000</td>\n",
              "    </tr>\n",
              "    <tr>\n",
              "      <th>ChronicCond_stroke</th>\n",
              "      <td>0</td>\n",
              "      <td>0.000000</td>\n",
              "    </tr>\n",
              "    <tr>\n",
              "      <th>ChronicCond_rheumatoidarthritis</th>\n",
              "      <td>0</td>\n",
              "      <td>0.000000</td>\n",
              "    </tr>\n",
              "    <tr>\n",
              "      <th>ChronicCond_Osteoporasis</th>\n",
              "      <td>0</td>\n",
              "      <td>0.000000</td>\n",
              "    </tr>\n",
              "    <tr>\n",
              "      <th>ChronicCond_IschemicHeart</th>\n",
              "      <td>0</td>\n",
              "      <td>0.000000</td>\n",
              "    </tr>\n",
              "    <tr>\n",
              "      <th>ChronicCond_Diabetes</th>\n",
              "      <td>0</td>\n",
              "      <td>0.000000</td>\n",
              "    </tr>\n",
              "    <tr>\n",
              "      <th>ChronicCond_Depression</th>\n",
              "      <td>0</td>\n",
              "      <td>0.000000</td>\n",
              "    </tr>\n",
              "    <tr>\n",
              "      <th>ChronicCond_ObstrPulmonary</th>\n",
              "      <td>0</td>\n",
              "      <td>0.000000</td>\n",
              "    </tr>\n",
              "    <tr>\n",
              "      <th>ChronicCond_KidneyDisease</th>\n",
              "      <td>0</td>\n",
              "      <td>0.000000</td>\n",
              "    </tr>\n",
              "    <tr>\n",
              "      <th>DOB</th>\n",
              "      <td>0</td>\n",
              "      <td>0.000000</td>\n",
              "    </tr>\n",
              "    <tr>\n",
              "      <th>ChronicCond_Heartfailure</th>\n",
              "      <td>0</td>\n",
              "      <td>0.000000</td>\n",
              "    </tr>\n",
              "    <tr>\n",
              "      <th>ChronicCond_Alzheimer</th>\n",
              "      <td>0</td>\n",
              "      <td>0.000000</td>\n",
              "    </tr>\n",
              "    <tr>\n",
              "      <th>NoOfMonths_PartBCov</th>\n",
              "      <td>0</td>\n",
              "      <td>0.000000</td>\n",
              "    </tr>\n",
              "    <tr>\n",
              "      <th>NoOfMonths_PartACov</th>\n",
              "      <td>0</td>\n",
              "      <td>0.000000</td>\n",
              "    </tr>\n",
              "    <tr>\n",
              "      <th>County</th>\n",
              "      <td>0</td>\n",
              "      <td>0.000000</td>\n",
              "    </tr>\n",
              "    <tr>\n",
              "      <th>State</th>\n",
              "      <td>0</td>\n",
              "      <td>0.000000</td>\n",
              "    </tr>\n",
              "    <tr>\n",
              "      <th>RenalDiseaseIndicator</th>\n",
              "      <td>0</td>\n",
              "      <td>0.000000</td>\n",
              "    </tr>\n",
              "    <tr>\n",
              "      <th>Race</th>\n",
              "      <td>0</td>\n",
              "      <td>0.000000</td>\n",
              "    </tr>\n",
              "    <tr>\n",
              "      <th>Gender</th>\n",
              "      <td>0</td>\n",
              "      <td>0.000000</td>\n",
              "    </tr>\n",
              "    <tr>\n",
              "      <th>OPAnnualDeductibleAmt</th>\n",
              "      <td>0</td>\n",
              "      <td>0.000000</td>\n",
              "    </tr>\n",
              "  </tbody>\n",
              "</table>\n",
              "</div>"
            ],
            "text/plain": [
              "                                  Total   Percent\n",
              "DOD                              137135  0.989744\n",
              "BeneID                                0  0.000000\n",
              "ChronicCond_Cancer                    0  0.000000\n",
              "OPAnnualReimbursementAmt              0  0.000000\n",
              "IPAnnualDeductibleAmt                 0  0.000000\n",
              "IPAnnualReimbursementAmt              0  0.000000\n",
              "ChronicCond_stroke                    0  0.000000\n",
              "ChronicCond_rheumatoidarthritis       0  0.000000\n",
              "ChronicCond_Osteoporasis              0  0.000000\n",
              "ChronicCond_IschemicHeart             0  0.000000\n",
              "ChronicCond_Diabetes                  0  0.000000\n",
              "ChronicCond_Depression                0  0.000000\n",
              "ChronicCond_ObstrPulmonary            0  0.000000\n",
              "ChronicCond_KidneyDisease             0  0.000000\n",
              "DOB                                   0  0.000000\n",
              "ChronicCond_Heartfailure              0  0.000000\n",
              "ChronicCond_Alzheimer                 0  0.000000\n",
              "NoOfMonths_PartBCov                   0  0.000000\n",
              "NoOfMonths_PartACov                   0  0.000000\n",
              "County                                0  0.000000\n",
              "State                                 0  0.000000\n",
              "RenalDiseaseIndicator                 0  0.000000\n",
              "Race                                  0  0.000000\n",
              "Gender                                0  0.000000\n",
              "OPAnnualDeductibleAmt                 0  0.000000"
            ]
          },
          "metadata": {
            "tags": []
          },
          "execution_count": 10
        }
      ]
    },
    {
      "cell_type": "markdown",
      "metadata": {
        "id": "1vCDuz-k4J6r"
      },
      "source": [
        "### `BeneId`: Beneficiary Patient ID"
      ]
    },
    {
      "cell_type": "code",
      "metadata": {
        "id": "nJinz0W44J6r",
        "outputId": "be1c6d16-38c9-4597-b131-dbf9f6a8b517"
      },
      "source": [
        "benefitial_df['BeneID'].dtype"
      ],
      "execution_count": null,
      "outputs": [
        {
          "output_type": "execute_result",
          "data": {
            "text/plain": [
              "dtype('O')"
            ]
          },
          "metadata": {
            "tags": []
          },
          "execution_count": 11
        }
      ]
    },
    {
      "cell_type": "code",
      "metadata": {
        "id": "-PDkd5Ys4J6r",
        "outputId": "48bb3396-44d6-4e5e-b0c2-cd9588b84d1c"
      },
      "source": [
        "benefitial_df['BeneID'].str.startswith('BENE').value_counts()"
      ],
      "execution_count": null,
      "outputs": [
        {
          "output_type": "execute_result",
          "data": {
            "text/plain": [
              "True    138556\n",
              "Name: BeneID, dtype: int64"
            ]
          },
          "metadata": {
            "tags": []
          },
          "execution_count": 12
        }
      ]
    },
    {
      "cell_type": "markdown",
      "metadata": {
        "id": "m2FvQuUl4J6s"
      },
      "source": [
        "<div class=\"alert alert-block alert-success\">All the <strong>BeneID</strong> values are valid and there is no missing values.\n",
        "</div>\n",
        "\n",
        "***"
      ]
    },
    {
      "cell_type": "markdown",
      "metadata": {
        "id": "67cm5Nv-4J6s"
      },
      "source": [
        "### `DOB`: Date of Birth"
      ]
    },
    {
      "cell_type": "code",
      "metadata": {
        "id": "ZuY6er1H4J6s",
        "outputId": "ba8298c4-4a3e-46b4-fd78-4a321543c16b"
      },
      "source": [
        "benefitial_df['DOB'].dtype"
      ],
      "execution_count": null,
      "outputs": [
        {
          "output_type": "execute_result",
          "data": {
            "text/plain": [
              "dtype('O')"
            ]
          },
          "metadata": {
            "tags": []
          },
          "execution_count": 13
        }
      ]
    },
    {
      "cell_type": "markdown",
      "metadata": {
        "id": "oej5rt7f4J6s"
      },
      "source": [
        "The date datatype is an object."
      ]
    },
    {
      "cell_type": "code",
      "metadata": {
        "id": "VXsHgzNK4J6s",
        "outputId": "86581277-ca3f-4192-a3d0-00c23e3a869c"
      },
      "source": [
        "#converting the date object into datetime\n",
        "benefitial_df['DOB'] = pd.to_datetime(benefitial_df['DOB'])\n",
        "benefitial_df['DOB'].dtype"
      ],
      "execution_count": null,
      "outputs": [
        {
          "output_type": "execute_result",
          "data": {
            "text/plain": [
              "dtype('<M8[ns]')"
            ]
          },
          "metadata": {
            "tags": []
          },
          "execution_count": 14
        }
      ]
    },
    {
      "cell_type": "code",
      "metadata": {
        "id": "p7gsLngi4J6t",
        "outputId": "d344ee0e-9318-42f1-f596-b11a8486a949"
      },
      "source": [
        "#check if there is an abnormal date.\n",
        "print(\"oldest date -> \",benefitial_df['DOB'].min(),\"\\nnewest date -> \",benefitial_df['DOB'].max())"
      ],
      "execution_count": null,
      "outputs": [
        {
          "output_type": "stream",
          "text": [
            "oldest date ->  1909-01-01 00:00:00 \n",
            "newest date ->  1983-12-01 00:00:00\n"
          ],
          "name": "stdout"
        }
      ]
    },
    {
      "cell_type": "code",
      "metadata": {
        "id": "u4OVKQR_4J6t",
        "outputId": "251c2118-386a-41ff-9b30-4500bc5dcab5"
      },
      "source": [
        "pd.DatetimeIndex(benefitial_df['DOB']).month.value_counts()"
      ],
      "execution_count": null,
      "outputs": [
        {
          "output_type": "execute_result",
          "data": {
            "text/plain": [
              "12    11731\n",
              "9     11656\n",
              "3     11648\n",
              "10    11646\n",
              "4     11625\n",
              "5     11579\n",
              "11    11569\n",
              "7     11513\n",
              "8     11473\n",
              "2     11407\n",
              "6     11361\n",
              "1     11348\n",
              "Name: DOB, dtype: int64"
            ]
          },
          "metadata": {
            "tags": []
          },
          "execution_count": 16
        }
      ]
    },
    {
      "cell_type": "code",
      "metadata": {
        "id": "K8fJEcRq4J6t",
        "outputId": "c9ff20e4-d8bb-4510-9d08-afc6c5ef4289"
      },
      "source": [
        "pd.DatetimeIndex(benefitial_df['DOB']).day.value_counts()"
      ],
      "execution_count": null,
      "outputs": [
        {
          "output_type": "execute_result",
          "data": {
            "text/plain": [
              "1    138556\n",
              "Name: DOB, dtype: int64"
            ]
          },
          "metadata": {
            "tags": []
          },
          "execution_count": 17
        }
      ]
    },
    {
      "cell_type": "markdown",
      "metadata": {
        "id": "7ZKslSD74J6u"
      },
      "source": [
        "<div class=\"alert alert-block alert-warning\">We noticed that all the <strong>DOB</strong> days have one value which is 1. We assume that they ignore the day and only register the month and the year.\n",
        "</div>"
      ]
    },
    {
      "cell_type": "markdown",
      "metadata": {
        "id": "K8WlJt8M4J6u"
      },
      "source": [
        "<div class=\"alert alert-block alert-success\">All the <strong>DOB</strong> values are valid and there is no missing values.\n",
        "</div>\n",
        "\n",
        "***"
      ]
    },
    {
      "cell_type": "markdown",
      "metadata": {
        "id": "N5W9vptW4J6u"
      },
      "source": [
        "### `DOD`: Date of Death"
      ]
    },
    {
      "cell_type": "code",
      "metadata": {
        "id": "e7GQk_Pr4J6u",
        "outputId": "3b3129fb-9a16-4ca1-bc6d-f305ed2970bd"
      },
      "source": [
        "benefitial_df['DOD'].isna().value_counts()/len(benefitial_df)"
      ],
      "execution_count": null,
      "outputs": [
        {
          "output_type": "execute_result",
          "data": {
            "text/plain": [
              "True     0.989744\n",
              "False    0.010256\n",
              "Name: DOD, dtype: float64"
            ]
          },
          "metadata": {
            "tags": []
          },
          "execution_count": 18
        }
      ]
    },
    {
      "cell_type": "markdown",
      "metadata": {
        "id": "azdzwuGM4J6v"
      },
      "source": [
        "98% of the DOD are missing because not all patients are dead yet. As a result, we will check the dates of the dead people."
      ]
    },
    {
      "cell_type": "code",
      "metadata": {
        "id": "oygHRMWS4J6v",
        "outputId": "171a902d-892a-4bc5-8a6e-b2b116f76d44"
      },
      "source": [
        "benefitial_df['DOD'].dtype"
      ],
      "execution_count": null,
      "outputs": [
        {
          "output_type": "execute_result",
          "data": {
            "text/plain": [
              "dtype('O')"
            ]
          },
          "metadata": {
            "tags": []
          },
          "execution_count": 19
        }
      ]
    },
    {
      "cell_type": "markdown",
      "metadata": {
        "id": "yiEGz_IK4J6v"
      },
      "source": [
        "The date datatype is an object."
      ]
    },
    {
      "cell_type": "code",
      "metadata": {
        "id": "R30L5USO4J6w",
        "outputId": "fd14f259-1112-44eb-8d8b-703189a5e077"
      },
      "source": [
        "#converting the date object into datetime\n",
        "benefitial_df['DOD'] = pd.to_datetime(benefitial_df['DOD'])\n",
        "benefitial_df['DOD'].dtype"
      ],
      "execution_count": null,
      "outputs": [
        {
          "output_type": "execute_result",
          "data": {
            "text/plain": [
              "dtype('<M8[ns]')"
            ]
          },
          "metadata": {
            "tags": []
          },
          "execution_count": 20
        }
      ]
    },
    {
      "cell_type": "code",
      "metadata": {
        "id": "Fq8z5VxY4J6w",
        "outputId": "dc5e9817-e0b5-45da-bdb8-c90ba90f663c"
      },
      "source": [
        "#check if there is an abnormal date.\n",
        "print(\"oldest date -> \",benefitial_df['DOD'].min(),\"\\nnewest date -> \",benefitial_df['DOD'].max())"
      ],
      "execution_count": null,
      "outputs": [
        {
          "output_type": "stream",
          "text": [
            "oldest date ->  2009-02-01 00:00:00 \n",
            "newest date ->  2009-12-01 00:00:00\n"
          ],
          "name": "stdout"
        }
      ]
    },
    {
      "cell_type": "code",
      "metadata": {
        "id": "dhuQ-It34J6w",
        "outputId": "aef57a31-dedf-48ed-fe44-f77c7ad9f1c0"
      },
      "source": [
        "pd.DatetimeIndex(benefitial_df['DOD']).month.value_counts()"
      ],
      "execution_count": null,
      "outputs": [
        {
          "output_type": "execute_result",
          "data": {
            "text/plain": [
              "12.0    182\n",
              "10.0    168\n",
              "9.0     164\n",
              "11.0    149\n",
              "8.0     144\n",
              "7.0     141\n",
              "5.0     119\n",
              "6.0     119\n",
              "4.0      94\n",
              "3.0      91\n",
              "2.0      50\n",
              "Name: DOD, dtype: int64"
            ]
          },
          "metadata": {
            "tags": []
          },
          "execution_count": 22
        }
      ]
    },
    {
      "cell_type": "code",
      "metadata": {
        "id": "V6s10w744J6x",
        "outputId": "01900d2f-9813-43b5-e549-2e56d923c9eb"
      },
      "source": [
        "pd.DatetimeIndex(benefitial_df['DOD']).day.value_counts()"
      ],
      "execution_count": null,
      "outputs": [
        {
          "output_type": "execute_result",
          "data": {
            "text/plain": [
              "1.0    1421\n",
              "Name: DOD, dtype: int64"
            ]
          },
          "metadata": {
            "tags": []
          },
          "execution_count": 23
        }
      ]
    },
    {
      "cell_type": "markdown",
      "metadata": {
        "id": "bR2tHArQ4J6x"
      },
      "source": [
        "<div class=\"alert alert-block alert-warning\">We noticed that all the <strong>DOD</strong> days have one value which is 1. We assume that they ignore the day and only register the month and the year.\n",
        "</div>"
      ]
    },
    {
      "cell_type": "markdown",
      "metadata": {
        "id": "kZREVuQb4J6x"
      },
      "source": [
        "<div class=\"alert alert-block alert-danger\">98% of the <strong>DOD</strong> values are missing.\n",
        "</div>\n",
        "\n",
        "***"
      ]
    },
    {
      "cell_type": "markdown",
      "metadata": {
        "id": "XmUV4N2W4J6x"
      },
      "source": [
        "# `Gender`"
      ]
    },
    {
      "cell_type": "code",
      "metadata": {
        "id": "8wrnR9S64J6y",
        "outputId": "4cae4197-a9eb-436d-9ef2-afa4d2449e48"
      },
      "source": [
        "benefitial_df['Gender'].dtype"
      ],
      "execution_count": null,
      "outputs": [
        {
          "output_type": "execute_result",
          "data": {
            "text/plain": [
              "dtype('int64')"
            ]
          },
          "metadata": {
            "tags": []
          },
          "execution_count": 24
        }
      ]
    },
    {
      "cell_type": "code",
      "metadata": {
        "id": "h2L_Rijn4J6y"
      },
      "source": [
        "#since the gender is a categorical data, we will convert it into category.\n",
        "benefitial_df['Gender'] = benefitial_df['Gender'].astype('category')"
      ],
      "execution_count": null,
      "outputs": []
    },
    {
      "cell_type": "code",
      "metadata": {
        "id": "qDWcx9bK4J6y",
        "outputId": "bc392318-6b13-4857-a201-945a190cd870"
      },
      "source": [
        "benefitial_df['Gender'].dtype"
      ],
      "execution_count": null,
      "outputs": [
        {
          "output_type": "execute_result",
          "data": {
            "text/plain": [
              "CategoricalDtype(categories=[1, 2], ordered=False)"
            ]
          },
          "metadata": {
            "tags": []
          },
          "execution_count": 26
        }
      ]
    },
    {
      "cell_type": "code",
      "metadata": {
        "id": "gcpH4Xib4J6y",
        "outputId": "fc1c2379-845f-4ec2-9aff-ccf0f5cd2a82"
      },
      "source": [
        "benefitial_df['Gender'].value_counts()"
      ],
      "execution_count": null,
      "outputs": [
        {
          "output_type": "execute_result",
          "data": {
            "text/plain": [
              "2    79106\n",
              "1    59450\n",
              "Name: Gender, dtype: int64"
            ]
          },
          "metadata": {
            "tags": []
          },
          "execution_count": 27
        }
      ]
    },
    {
      "cell_type": "markdown",
      "metadata": {
        "id": "Hq9MWmKp4J6y"
      },
      "source": [
        "<div class=\"alert alert-block alert-success\">There is no missing data in <strong>Gender</strong>.\n",
        "</div>\n",
        "\n",
        "***"
      ]
    },
    {
      "cell_type": "markdown",
      "metadata": {
        "id": "1aT7kVcl4J6z"
      },
      "source": [
        "# `Race`"
      ]
    },
    {
      "cell_type": "code",
      "metadata": {
        "id": "_m4XfHAn4J6z",
        "outputId": "e424a758-95ef-4e44-a7df-254c547da535"
      },
      "source": [
        "benefitial_df['Race'].dtype"
      ],
      "execution_count": null,
      "outputs": [
        {
          "output_type": "execute_result",
          "data": {
            "text/plain": [
              "dtype('int64')"
            ]
          },
          "metadata": {
            "tags": []
          },
          "execution_count": 28
        }
      ]
    },
    {
      "cell_type": "code",
      "metadata": {
        "id": "HxK1abzl4J6z",
        "outputId": "dc79b4ce-4757-48dc-d950-a14620989174"
      },
      "source": [
        "benefitial_df['Race'].value_counts()"
      ],
      "execution_count": null,
      "outputs": [
        {
          "output_type": "execute_result",
          "data": {
            "text/plain": [
              "1    117057\n",
              "2     13538\n",
              "3      5059\n",
              "5      2902\n",
              "Name: Race, dtype: int64"
            ]
          },
          "metadata": {
            "tags": []
          },
          "execution_count": 29
        }
      ]
    },
    {
      "cell_type": "code",
      "metadata": {
        "id": "VgjMVYdm4J6z"
      },
      "source": [
        "#since the race is a categorical data, we will convert it into category.\n",
        "benefitial_df['Race'] = benefitial_df['Race'].astype('category')"
      ],
      "execution_count": null,
      "outputs": []
    },
    {
      "cell_type": "code",
      "metadata": {
        "id": "0a_hBqHO4J60",
        "outputId": "13d2181e-9848-4d67-d637-ccedc82c251d"
      },
      "source": [
        "benefitial_df['Race'].dtype"
      ],
      "execution_count": null,
      "outputs": [
        {
          "output_type": "execute_result",
          "data": {
            "text/plain": [
              "CategoricalDtype(categories=[1, 2, 3, 5], ordered=False)"
            ]
          },
          "metadata": {
            "tags": []
          },
          "execution_count": 31
        }
      ]
    },
    {
      "cell_type": "markdown",
      "metadata": {
        "id": "ttlh9Ejs4J60"
      },
      "source": [
        "<div class=\"alert alert-block alert-success\">There is no missing data in <strong>Race</strong>.\n",
        "</div>\n",
        "\n",
        "***"
      ]
    },
    {
      "cell_type": "markdown",
      "metadata": {
        "id": "EJKD5YXt4J60"
      },
      "source": [
        "# `RenalDiseaseIndicator`"
      ]
    },
    {
      "cell_type": "code",
      "metadata": {
        "id": "aKjzOqjh4J60",
        "outputId": "b930891f-8aeb-45ba-9d2e-7bc74bbad119"
      },
      "source": [
        "benefitial_df['RenalDiseaseIndicator'].dtype"
      ],
      "execution_count": null,
      "outputs": [
        {
          "output_type": "execute_result",
          "data": {
            "text/plain": [
              "dtype('O')"
            ]
          },
          "metadata": {
            "tags": []
          },
          "execution_count": 35
        }
      ]
    },
    {
      "cell_type": "code",
      "metadata": {
        "id": "GjHDY3Bw4J61",
        "outputId": "eb1ba35c-b65b-4db5-af8f-c3072fd56690"
      },
      "source": [
        "benefitial_df['RenalDiseaseIndicator'].value_counts()"
      ],
      "execution_count": null,
      "outputs": [
        {
          "output_type": "execute_result",
          "data": {
            "text/plain": [
              "0    118978\n",
              "Y     19578\n",
              "Name: RenalDiseaseIndicator, dtype: int64"
            ]
          },
          "metadata": {
            "tags": []
          },
          "execution_count": 37
        }
      ]
    },
    {
      "cell_type": "code",
      "metadata": {
        "id": "nMaJz1qC4J61"
      },
      "source": [
        "#since the RenalDiseaseIndicator is a categorical data, we will convert it into category.\n",
        "benefitial_df['RenalDiseaseIndicator'] = benefitial_df['RenalDiseaseIndicator'].astype('category')"
      ],
      "execution_count": null,
      "outputs": []
    },
    {
      "cell_type": "code",
      "metadata": {
        "id": "EIPAX9O04J61",
        "outputId": "10189252-018a-4126-874b-fe742becb8f5"
      },
      "source": [
        "benefitial_df['RenalDiseaseIndicator'].dtype"
      ],
      "execution_count": null,
      "outputs": [
        {
          "output_type": "execute_result",
          "data": {
            "text/plain": [
              "CategoricalDtype(categories=['0', 'Y'], ordered=False)"
            ]
          },
          "metadata": {
            "tags": []
          },
          "execution_count": 59
        }
      ]
    },
    {
      "cell_type": "markdown",
      "metadata": {
        "id": "BdzVSVII4J62"
      },
      "source": [
        "<div class=\"alert alert-block alert-warning\">We noticed that the values are (0 any Y) not (N or Y) or (0 or 1). For now, we assume that 0 means that the patient does not have a renal disease and Y is the opposite.\n",
        "</div>"
      ]
    },
    {
      "cell_type": "markdown",
      "metadata": {
        "id": "_sF5Cy4y4J62"
      },
      "source": [
        "<div class=\"alert alert-block alert-success\">There is no missing data in <strong>RenalDiseaseIndicaton</strong>.\n",
        "</div>\n",
        "\n",
        "***"
      ]
    },
    {
      "cell_type": "markdown",
      "metadata": {
        "id": "PbOS5MyQ4J62"
      },
      "source": [
        "# `State`"
      ]
    },
    {
      "cell_type": "code",
      "metadata": {
        "id": "c7vkUUCp4J62",
        "outputId": "4d3dfd9d-7ef9-4f37-89a3-0218976ab8a9"
      },
      "source": [
        "benefitial_df['State'].dtype"
      ],
      "execution_count": null,
      "outputs": [
        {
          "output_type": "execute_result",
          "data": {
            "text/plain": [
              "dtype('int64')"
            ]
          },
          "metadata": {
            "tags": []
          },
          "execution_count": 39
        }
      ]
    },
    {
      "cell_type": "code",
      "metadata": {
        "scrolled": true,
        "id": "qpFU2Wxs4J63",
        "outputId": "d53285b1-763d-4a5e-a014-69bcd5f32b3e"
      },
      "source": [
        "benefitial_df['State'].value_counts()"
      ],
      "execution_count": null,
      "outputs": [
        {
          "output_type": "execute_result",
          "data": {
            "text/plain": [
              "5     12052\n",
              "10     9771\n",
              "45     8780\n",
              "33     8443\n",
              "39     6055\n",
              "14     5923\n",
              "36     5366\n",
              "23     5293\n",
              "34     4629\n",
              "31     4124\n",
              "11     3892\n",
              "49     3623\n",
              "44     3390\n",
              "22     3306\n",
              "15     3272\n",
              "26     3108\n",
              "50     2793\n",
              "52     2662\n",
              "1      2615\n",
              "21     2570\n",
              "42     2524\n",
              "18     2519\n",
              "3      2395\n",
              "24     2165\n",
              "19     1998\n",
              "37     1926\n",
              "4      1817\n",
              "6      1807\n",
              "16     1746\n",
              "25     1622\n",
              "7      1602\n",
              "38     1468\n",
              "17     1339\n",
              "54     1237\n",
              "51     1212\n",
              "20      931\n",
              "28      905\n",
              "32      895\n",
              "46      851\n",
              "29      752\n",
              "30      732\n",
              "13      687\n",
              "27      538\n",
              "12      484\n",
              "43      465\n",
              "41      438\n",
              "8       415\n",
              "47      410\n",
              "35      304\n",
              "53      295\n",
              "9       214\n",
              "2       196\n",
              "Name: State, dtype: int64"
            ]
          },
          "metadata": {
            "tags": []
          },
          "execution_count": 40
        }
      ]
    },
    {
      "cell_type": "code",
      "metadata": {
        "id": "jLHkrraf4J63"
      },
      "source": [
        "#since the State is a categorical data, we will convert it into category.\n",
        "benefitial_df['State'] = benefitial_df['State'].astype('category')"
      ],
      "execution_count": null,
      "outputs": []
    },
    {
      "cell_type": "code",
      "metadata": {
        "id": "l74RdXnO4J63",
        "outputId": "efb61a83-6210-4344-c53d-222baa81bf76"
      },
      "source": [
        "benefitial_df['State'].dtype"
      ],
      "execution_count": null,
      "outputs": [
        {
          "output_type": "execute_result",
          "data": {
            "text/plain": [
              "CategoricalDtype(categories=[ 1,  2,  3,  4,  5,  6,  7,  8,  9, 10, 11, 12, 13, 14, 15,\n",
              "                  16, 17, 18, 19, 20, 21, 22, 23, 24, 25, 26, 27, 28, 29, 30,\n",
              "                  31, 32, 33, 34, 35, 36, 37, 38, 39, 41, 42, 43, 44, 45, 46,\n",
              "                  47, 49, 50, 51, 52, 53, 54],\n",
              ", ordered=False)"
            ]
          },
          "metadata": {
            "tags": []
          },
          "execution_count": 57
        }
      ]
    },
    {
      "cell_type": "markdown",
      "metadata": {
        "id": "EEnEjFDP4J64"
      },
      "source": [
        "<div class=\"alert alert-block alert-success\">There is no missing data in <strong>State</strong>.\n",
        "</div>\n",
        "\n",
        "***"
      ]
    },
    {
      "cell_type": "markdown",
      "metadata": {
        "id": "hocQLGDi4J64"
      },
      "source": [
        "# `County`"
      ]
    },
    {
      "cell_type": "code",
      "metadata": {
        "id": "VhhODL4R4J64",
        "outputId": "58a18168-3fd9-4f3d-f24c-e67ec218fe92"
      },
      "source": [
        "benefitial_df['County'].dtype"
      ],
      "execution_count": null,
      "outputs": [
        {
          "output_type": "execute_result",
          "data": {
            "text/plain": [
              "dtype('int64')"
            ]
          },
          "metadata": {
            "tags": []
          },
          "execution_count": 42
        }
      ]
    },
    {
      "cell_type": "code",
      "metadata": {
        "id": "E0Cxq0XD4J64",
        "outputId": "79af352d-93c1-4b0e-833e-6b5ab1244809"
      },
      "source": [
        "benefitial_df['County'].value_counts()"
      ],
      "execution_count": null,
      "outputs": [
        {
          "output_type": "execute_result",
          "data": {
            "text/plain": [
              "200    3943\n",
              "10     3587\n",
              "20     3176\n",
              "60     3003\n",
              "0      2977\n",
              "       ... \n",
              "944       1\n",
              "742       1\n",
              "753       1\n",
              "744       1\n",
              "521       1\n",
              "Name: County, Length: 314, dtype: int64"
            ]
          },
          "metadata": {
            "tags": []
          },
          "execution_count": 52
        }
      ]
    },
    {
      "cell_type": "code",
      "metadata": {
        "id": "cJpebJ8d4J65"
      },
      "source": [
        "#since the County is a categorical data, we will convert it into category.\n",
        "benefitial_df['County'] = benefitial_df['County'].astype('category')"
      ],
      "execution_count": null,
      "outputs": []
    },
    {
      "cell_type": "code",
      "metadata": {
        "id": "S99DHuie4J65",
        "outputId": "c9743ade-f9c5-4cfe-d706-8aece8c7d923"
      },
      "source": [
        "benefitial_df['County'].dtype"
      ],
      "execution_count": null,
      "outputs": [
        {
          "output_type": "execute_result",
          "data": {
            "text/plain": [
              "CategoricalDtype(categories=[  0,   1,  10,  11,  14,  20,  25,  30,  34,  40,\n",
              "                  ...\n",
              "                  987, 988, 989, 990, 991, 992, 993, 994, 996, 999],\n",
              ", ordered=False)"
            ]
          },
          "metadata": {
            "tags": []
          },
          "execution_count": 56
        }
      ]
    },
    {
      "cell_type": "markdown",
      "metadata": {
        "id": "9HMSbfdS4J65"
      },
      "source": [
        "<div class=\"alert alert-block alert-info\">The <strong>County</strong> values range between 0 and 999.\n",
        "</div>"
      ]
    },
    {
      "cell_type": "markdown",
      "metadata": {
        "id": "sAKhTcdI4J65"
      },
      "source": [
        "<div class=\"alert alert-block alert-success\">There is no missing data in <strong>State</strong>.\n",
        "</div>\n",
        "\n",
        "***"
      ]
    },
    {
      "cell_type": "markdown",
      "metadata": {
        "id": "izYSsW3c4J66"
      },
      "source": [
        "# `NoOfMonths_PartACov` + `NoOfMonths_PartBCov`"
      ]
    },
    {
      "cell_type": "code",
      "metadata": {
        "id": "oMmyCpai4J66",
        "outputId": "c3aad786-70ab-41e3-ce2a-4d5172cfdf2c"
      },
      "source": [
        "benefitial_df['NoOfMonths_PartACov'].dtype"
      ],
      "execution_count": null,
      "outputs": [
        {
          "output_type": "execute_result",
          "data": {
            "text/plain": [
              "dtype('int64')"
            ]
          },
          "metadata": {
            "tags": []
          },
          "execution_count": 60
        }
      ]
    },
    {
      "cell_type": "code",
      "metadata": {
        "id": "pEuQtNIF4J66",
        "outputId": "8f98e0b2-cf74-414e-cf5f-2fc7ea70e629"
      },
      "source": [
        "benefitial_df['NoOfMonths_PartACov'].value_counts()"
      ],
      "execution_count": null,
      "outputs": [
        {
          "output_type": "execute_result",
          "data": {
            "text/plain": [
              "12    137389\n",
              "0       1000\n",
              "6         38\n",
              "11        28\n",
              "8         26\n",
              "10        18\n",
              "7         16\n",
              "4         13\n",
              "5          8\n",
              "9          7\n",
              "2          5\n",
              "3          5\n",
              "1          3\n",
              "Name: NoOfMonths_PartACov, dtype: int64"
            ]
          },
          "metadata": {
            "tags": []
          },
          "execution_count": 61
        }
      ]
    },
    {
      "cell_type": "code",
      "metadata": {
        "id": "9jTgK4lB4J66",
        "outputId": "00bc91c4-0111-486b-93ea-81025c5c566b"
      },
      "source": [
        "benefitial_df['NoOfMonths_PartBCov'].dtype"
      ],
      "execution_count": null,
      "outputs": [
        {
          "output_type": "execute_result",
          "data": {
            "text/plain": [
              "dtype('int64')"
            ]
          },
          "metadata": {
            "tags": []
          },
          "execution_count": 62
        }
      ]
    },
    {
      "cell_type": "code",
      "metadata": {
        "id": "bUW4-U8_4J67",
        "outputId": "05d586a8-84eb-4de5-a2a5-1e14ac49fbff"
      },
      "source": [
        "benefitial_df['NoOfMonths_PartBCov'].value_counts()"
      ],
      "execution_count": null,
      "outputs": [
        {
          "output_type": "execute_result",
          "data": {
            "text/plain": [
              "12    136902\n",
              "0        675\n",
              "6        282\n",
              "10       150\n",
              "11       143\n",
              "9        122\n",
              "8         71\n",
              "7         63\n",
              "5         50\n",
              "4         35\n",
              "3         27\n",
              "2         19\n",
              "1         17\n",
              "Name: NoOfMonths_PartBCov, dtype: int64"
            ]
          },
          "metadata": {
            "tags": []
          },
          "execution_count": 63
        }
      ]
    },
    {
      "cell_type": "markdown",
      "metadata": {
        "id": "E8h2Vk0_4J67"
      },
      "source": [
        "<div class=\"alert alert-block alert-success\">There is no missing data in <strong>NoOfMonths_PartACov</strong> or <strong>NoOfMonths_PartBCov</strong>.\n",
        "</div>\n",
        "\n",
        "***"
      ]
    },
    {
      "cell_type": "markdown",
      "metadata": {
        "id": "A-FSvlPP4J67"
      },
      "source": [
        "# `Choronic Diseases`"
      ]
    },
    {
      "cell_type": "code",
      "metadata": {
        "id": "k0GF6tPb4J67"
      },
      "source": [
        "choronics = ['ChronicCond_Alzheimer', 'ChronicCond_Heartfailure','ChronicCond_KidneyDisease', 'ChronicCond_Cancer','ChronicCond_ObstrPulmonary', 'ChronicCond_Depression','ChronicCond_Diabetes', 'ChronicCond_IschemicHeart','ChronicCond_Osteoporasis', 'ChronicCond_rheumatoidarthritis','ChronicCond_stroke']"
      ],
      "execution_count": null,
      "outputs": []
    },
    {
      "cell_type": "code",
      "metadata": {
        "id": "dfMvv5yJ4J68",
        "outputId": "a1ba6706-3cc0-4de9-db99-46359314a5c7"
      },
      "source": [
        "for disease in choronics:\n",
        "    print(disease)\n",
        "    print(benefitial_df[disease].dtype)\n",
        "    print(benefitial_df[disease].value_counts())\n",
        "    print('*********************************')"
      ],
      "execution_count": null,
      "outputs": [
        {
          "output_type": "stream",
          "text": [
            "ChronicCond_Alzheimer\n",
            "int64\n",
            "2    92530\n",
            "1    46026\n",
            "Name: ChronicCond_Alzheimer, dtype: int64\n",
            "*********************************\n",
            "ChronicCond_Heartfailure\n",
            "int64\n",
            "2    70154\n",
            "1    68402\n",
            "Name: ChronicCond_Heartfailure, dtype: int64\n",
            "*********************************\n",
            "ChronicCond_KidneyDisease\n",
            "int64\n",
            "2    95277\n",
            "1    43279\n",
            "Name: ChronicCond_KidneyDisease, dtype: int64\n",
            "*********************************\n",
            "ChronicCond_Cancer\n",
            "int64\n",
            "2    121935\n",
            "1     16621\n",
            "Name: ChronicCond_Cancer, dtype: int64\n",
            "*********************************\n",
            "ChronicCond_ObstrPulmonary\n",
            "int64\n",
            "2    105697\n",
            "1     32859\n",
            "Name: ChronicCond_ObstrPulmonary, dtype: int64\n",
            "*********************************\n",
            "ChronicCond_Depression\n",
            "int64\n",
            "2    89296\n",
            "1    49260\n",
            "Name: ChronicCond_Depression, dtype: int64\n",
            "*********************************\n",
            "ChronicCond_Diabetes\n",
            "int64\n",
            "1    83391\n",
            "2    55165\n",
            "Name: ChronicCond_Diabetes, dtype: int64\n",
            "*********************************\n",
            "ChronicCond_IschemicHeart\n",
            "int64\n",
            "1    93644\n",
            "2    44912\n",
            "Name: ChronicCond_IschemicHeart, dtype: int64\n",
            "*********************************\n",
            "ChronicCond_Osteoporasis\n",
            "int64\n",
            "2    100497\n",
            "1     38059\n",
            "Name: ChronicCond_Osteoporasis, dtype: int64\n",
            "*********************************\n",
            "ChronicCond_rheumatoidarthritis\n",
            "int64\n",
            "2    102972\n",
            "1     35584\n",
            "Name: ChronicCond_rheumatoidarthritis, dtype: int64\n",
            "*********************************\n",
            "ChronicCond_stroke\n",
            "int64\n",
            "2    127602\n",
            "1     10954\n",
            "Name: ChronicCond_stroke, dtype: int64\n",
            "*********************************\n"
          ],
          "name": "stdout"
        }
      ]
    },
    {
      "cell_type": "markdown",
      "metadata": {
        "id": "k4qzZa0S4J68"
      },
      "source": [
        "<div class=\"alert alert-block alert-info\">All the values are either 1 or 2. We will convert the data type into categorical.\n",
        "</div>"
      ]
    },
    {
      "cell_type": "code",
      "metadata": {
        "id": "ewdAaLGC4J68"
      },
      "source": [
        "#since the ChoronicDisease* are categorical, we'll convert their dtype into categorical\n",
        "for disease in choronics:\n",
        "    benefitial_df[disease] = benefitial_df[disease].astype('category')"
      ],
      "execution_count": null,
      "outputs": []
    },
    {
      "cell_type": "markdown",
      "metadata": {
        "id": "X_S1a_OL4J69"
      },
      "source": [
        "<div class=\"alert alert-block alert-success\">There is no missing data in the <strong>Choronic diseases</strong>.\n",
        "</div>\n",
        "\n",
        "***"
      ]
    },
    {
      "cell_type": "markdown",
      "metadata": {
        "id": "WjkXczp54J69"
      },
      "source": [
        "***"
      ]
    },
    {
      "cell_type": "markdown",
      "metadata": {
        "id": "UiKFoERV4J69"
      },
      "source": [
        "# `IPAnnualReimbursementAmt` + `IPAnnualDeductibleAmt`"
      ]
    },
    {
      "cell_type": "code",
      "metadata": {
        "id": "YuGQRlsa4J69",
        "outputId": "200c5bc1-a78e-4a6a-e54e-7cf6e12521ab"
      },
      "source": [
        "benefitial_df['IPAnnualReimbursementAmt'].value_counts()"
      ],
      "execution_count": null,
      "outputs": [
        {
          "output_type": "execute_result",
          "data": {
            "text/plain": [
              "0        102511\n",
              "4000       2123\n",
              "5000       1851\n",
              "3000       1800\n",
              "6000       1589\n",
              "          ...  \n",
              "15290         1\n",
              "60320         1\n",
              "35500         1\n",
              "39470         1\n",
              "67040         1\n",
              "Name: IPAnnualReimbursementAmt, Length: 3004, dtype: int64"
            ]
          },
          "metadata": {
            "tags": []
          },
          "execution_count": 87
        }
      ]
    },
    {
      "cell_type": "code",
      "metadata": {
        "id": "TsfbSp3Z4J69",
        "outputId": "6ff4b7bf-c82b-4ed6-9472-486dad7bbdbc"
      },
      "source": [
        "print('min: ',benefitial_df['IPAnnualReimbursementAmt'].min(),', max: ',benefitial_df['IPAnnualReimbursementAmt'].max())"
      ],
      "execution_count": null,
      "outputs": [
        {
          "output_type": "stream",
          "text": [
            "min:  -8000 , max:  161470\n"
          ],
          "name": "stdout"
        }
      ]
    },
    {
      "cell_type": "code",
      "metadata": {
        "id": "3e-VQL0w4J6-",
        "outputId": "75572720-9fb9-42a0-b9ba-a821c959636a"
      },
      "source": [
        "benefitial_df[benefitial_df['IPAnnualReimbursementAmt']<0]"
      ],
      "execution_count": null,
      "outputs": [
        {
          "output_type": "execute_result",
          "data": {
            "text/html": [
              "<div>\n",
              "<style scoped>\n",
              "    .dataframe tbody tr th:only-of-type {\n",
              "        vertical-align: middle;\n",
              "    }\n",
              "\n",
              "    .dataframe tbody tr th {\n",
              "        vertical-align: top;\n",
              "    }\n",
              "\n",
              "    .dataframe thead th {\n",
              "        text-align: right;\n",
              "    }\n",
              "</style>\n",
              "<table border=\"1\" class=\"dataframe\">\n",
              "  <thead>\n",
              "    <tr style=\"text-align: right;\">\n",
              "      <th></th>\n",
              "      <th>BeneID</th>\n",
              "      <th>DOB</th>\n",
              "      <th>DOD</th>\n",
              "      <th>Gender</th>\n",
              "      <th>Race</th>\n",
              "      <th>RenalDiseaseIndicator</th>\n",
              "      <th>State</th>\n",
              "      <th>County</th>\n",
              "      <th>NoOfMonths_PartACov</th>\n",
              "      <th>NoOfMonths_PartBCov</th>\n",
              "      <th>...</th>\n",
              "      <th>ChronicCond_Depression</th>\n",
              "      <th>ChronicCond_Diabetes</th>\n",
              "      <th>ChronicCond_IschemicHeart</th>\n",
              "      <th>ChronicCond_Osteoporasis</th>\n",
              "      <th>ChronicCond_rheumatoidarthritis</th>\n",
              "      <th>ChronicCond_stroke</th>\n",
              "      <th>IPAnnualReimbursementAmt</th>\n",
              "      <th>IPAnnualDeductibleAmt</th>\n",
              "      <th>OPAnnualReimbursementAmt</th>\n",
              "      <th>OPAnnualDeductibleAmt</th>\n",
              "    </tr>\n",
              "  </thead>\n",
              "  <tbody>\n",
              "    <tr>\n",
              "      <th>3559</th>\n",
              "      <td>BENE14791</td>\n",
              "      <td>1929-04-01</td>\n",
              "      <td>NaT</td>\n",
              "      <td>2</td>\n",
              "      <td>3</td>\n",
              "      <td>0</td>\n",
              "      <td>12</td>\n",
              "      <td>20</td>\n",
              "      <td>12</td>\n",
              "      <td>12</td>\n",
              "      <td>...</td>\n",
              "      <td>2</td>\n",
              "      <td>2</td>\n",
              "      <td>2</td>\n",
              "      <td>2</td>\n",
              "      <td>2</td>\n",
              "      <td>2</td>\n",
              "      <td>-640</td>\n",
              "      <td>1068</td>\n",
              "      <td>180</td>\n",
              "      <td>70</td>\n",
              "    </tr>\n",
              "    <tr>\n",
              "      <th>8008</th>\n",
              "      <td>BENE19571</td>\n",
              "      <td>1938-07-01</td>\n",
              "      <td>NaT</td>\n",
              "      <td>2</td>\n",
              "      <td>1</td>\n",
              "      <td>0</td>\n",
              "      <td>32</td>\n",
              "      <td>230</td>\n",
              "      <td>12</td>\n",
              "      <td>12</td>\n",
              "      <td>...</td>\n",
              "      <td>1</td>\n",
              "      <td>1</td>\n",
              "      <td>1</td>\n",
              "      <td>2</td>\n",
              "      <td>2</td>\n",
              "      <td>2</td>\n",
              "      <td>-300</td>\n",
              "      <td>1068</td>\n",
              "      <td>4720</td>\n",
              "      <td>770</td>\n",
              "    </tr>\n",
              "    <tr>\n",
              "      <th>12999</th>\n",
              "      <td>BENE24913</td>\n",
              "      <td>1946-04-01</td>\n",
              "      <td>NaT</td>\n",
              "      <td>1</td>\n",
              "      <td>1</td>\n",
              "      <td>0</td>\n",
              "      <td>49</td>\n",
              "      <td>930</td>\n",
              "      <td>12</td>\n",
              "      <td>12</td>\n",
              "      <td>...</td>\n",
              "      <td>2</td>\n",
              "      <td>1</td>\n",
              "      <td>1</td>\n",
              "      <td>2</td>\n",
              "      <td>2</td>\n",
              "      <td>2</td>\n",
              "      <td>-100</td>\n",
              "      <td>1068</td>\n",
              "      <td>100</td>\n",
              "      <td>100</td>\n",
              "    </tr>\n",
              "    <tr>\n",
              "      <th>15160</th>\n",
              "      <td>BENE27231</td>\n",
              "      <td>1935-02-01</td>\n",
              "      <td>NaT</td>\n",
              "      <td>1</td>\n",
              "      <td>1</td>\n",
              "      <td>0</td>\n",
              "      <td>42</td>\n",
              "      <td>250</td>\n",
              "      <td>12</td>\n",
              "      <td>12</td>\n",
              "      <td>...</td>\n",
              "      <td>1</td>\n",
              "      <td>1</td>\n",
              "      <td>1</td>\n",
              "      <td>1</td>\n",
              "      <td>2</td>\n",
              "      <td>2</td>\n",
              "      <td>-100</td>\n",
              "      <td>1068</td>\n",
              "      <td>1220</td>\n",
              "      <td>770</td>\n",
              "    </tr>\n",
              "    <tr>\n",
              "      <th>23146</th>\n",
              "      <td>BENE35786</td>\n",
              "      <td>1937-10-01</td>\n",
              "      <td>NaT</td>\n",
              "      <td>1</td>\n",
              "      <td>1</td>\n",
              "      <td>0</td>\n",
              "      <td>3</td>\n",
              "      <td>60</td>\n",
              "      <td>12</td>\n",
              "      <td>12</td>\n",
              "      <td>...</td>\n",
              "      <td>1</td>\n",
              "      <td>1</td>\n",
              "      <td>2</td>\n",
              "      <td>2</td>\n",
              "      <td>1</td>\n",
              "      <td>2</td>\n",
              "      <td>-100</td>\n",
              "      <td>1068</td>\n",
              "      <td>820</td>\n",
              "      <td>1180</td>\n",
              "    </tr>\n",
              "    <tr>\n",
              "      <th>31067</th>\n",
              "      <td>BENE44298</td>\n",
              "      <td>1929-02-01</td>\n",
              "      <td>NaT</td>\n",
              "      <td>2</td>\n",
              "      <td>2</td>\n",
              "      <td>0</td>\n",
              "      <td>1</td>\n",
              "      <td>510</td>\n",
              "      <td>12</td>\n",
              "      <td>12</td>\n",
              "      <td>...</td>\n",
              "      <td>2</td>\n",
              "      <td>2</td>\n",
              "      <td>1</td>\n",
              "      <td>2</td>\n",
              "      <td>2</td>\n",
              "      <td>2</td>\n",
              "      <td>-300</td>\n",
              "      <td>1068</td>\n",
              "      <td>2430</td>\n",
              "      <td>200</td>\n",
              "    </tr>\n",
              "    <tr>\n",
              "      <th>34829</th>\n",
              "      <td>BENE48336</td>\n",
              "      <td>1941-11-01</td>\n",
              "      <td>NaT</td>\n",
              "      <td>2</td>\n",
              "      <td>1</td>\n",
              "      <td>0</td>\n",
              "      <td>18</td>\n",
              "      <td>70</td>\n",
              "      <td>12</td>\n",
              "      <td>12</td>\n",
              "      <td>...</td>\n",
              "      <td>2</td>\n",
              "      <td>1</td>\n",
              "      <td>1</td>\n",
              "      <td>2</td>\n",
              "      <td>1</td>\n",
              "      <td>2</td>\n",
              "      <td>-8000</td>\n",
              "      <td>1068</td>\n",
              "      <td>0</td>\n",
              "      <td>30</td>\n",
              "    </tr>\n",
              "    <tr>\n",
              "      <th>40986</th>\n",
              "      <td>BENE54894</td>\n",
              "      <td>1926-04-01</td>\n",
              "      <td>NaT</td>\n",
              "      <td>2</td>\n",
              "      <td>1</td>\n",
              "      <td>0</td>\n",
              "      <td>14</td>\n",
              "      <td>141</td>\n",
              "      <td>12</td>\n",
              "      <td>12</td>\n",
              "      <td>...</td>\n",
              "      <td>1</td>\n",
              "      <td>1</td>\n",
              "      <td>2</td>\n",
              "      <td>2</td>\n",
              "      <td>2</td>\n",
              "      <td>2</td>\n",
              "      <td>-1000</td>\n",
              "      <td>1068</td>\n",
              "      <td>100</td>\n",
              "      <td>10</td>\n",
              "    </tr>\n",
              "    <tr>\n",
              "      <th>69876</th>\n",
              "      <td>BENE85807</td>\n",
              "      <td>1972-12-01</td>\n",
              "      <td>NaT</td>\n",
              "      <td>1</td>\n",
              "      <td>1</td>\n",
              "      <td>0</td>\n",
              "      <td>44</td>\n",
              "      <td>60</td>\n",
              "      <td>12</td>\n",
              "      <td>12</td>\n",
              "      <td>...</td>\n",
              "      <td>1</td>\n",
              "      <td>2</td>\n",
              "      <td>1</td>\n",
              "      <td>2</td>\n",
              "      <td>2</td>\n",
              "      <td>2</td>\n",
              "      <td>-40</td>\n",
              "      <td>1068</td>\n",
              "      <td>170</td>\n",
              "      <td>110</td>\n",
              "    </tr>\n",
              "    <tr>\n",
              "      <th>75614</th>\n",
              "      <td>BENE91939</td>\n",
              "      <td>1973-09-01</td>\n",
              "      <td>NaT</td>\n",
              "      <td>2</td>\n",
              "      <td>2</td>\n",
              "      <td>0</td>\n",
              "      <td>21</td>\n",
              "      <td>20</td>\n",
              "      <td>12</td>\n",
              "      <td>12</td>\n",
              "      <td>...</td>\n",
              "      <td>1</td>\n",
              "      <td>1</td>\n",
              "      <td>2</td>\n",
              "      <td>1</td>\n",
              "      <td>1</td>\n",
              "      <td>2</td>\n",
              "      <td>-300</td>\n",
              "      <td>1068</td>\n",
              "      <td>210</td>\n",
              "      <td>10</td>\n",
              "    </tr>\n",
              "    <tr>\n",
              "      <th>86500</th>\n",
              "      <td>BENE103563</td>\n",
              "      <td>1934-07-01</td>\n",
              "      <td>NaT</td>\n",
              "      <td>1</td>\n",
              "      <td>1</td>\n",
              "      <td>0</td>\n",
              "      <td>45</td>\n",
              "      <td>810</td>\n",
              "      <td>12</td>\n",
              "      <td>12</td>\n",
              "      <td>...</td>\n",
              "      <td>1</td>\n",
              "      <td>1</td>\n",
              "      <td>1</td>\n",
              "      <td>1</td>\n",
              "      <td>2</td>\n",
              "      <td>2</td>\n",
              "      <td>-10</td>\n",
              "      <td>1068</td>\n",
              "      <td>480</td>\n",
              "      <td>200</td>\n",
              "    </tr>\n",
              "    <tr>\n",
              "      <th>88111</th>\n",
              "      <td>BENE105279</td>\n",
              "      <td>1931-11-01</td>\n",
              "      <td>NaT</td>\n",
              "      <td>2</td>\n",
              "      <td>1</td>\n",
              "      <td>0</td>\n",
              "      <td>34</td>\n",
              "      <td>800</td>\n",
              "      <td>12</td>\n",
              "      <td>12</td>\n",
              "      <td>...</td>\n",
              "      <td>2</td>\n",
              "      <td>1</td>\n",
              "      <td>2</td>\n",
              "      <td>2</td>\n",
              "      <td>2</td>\n",
              "      <td>2</td>\n",
              "      <td>-200</td>\n",
              "      <td>1068</td>\n",
              "      <td>1420</td>\n",
              "      <td>840</td>\n",
              "    </tr>\n",
              "    <tr>\n",
              "      <th>93328</th>\n",
              "      <td>BENE110853</td>\n",
              "      <td>1913-06-01</td>\n",
              "      <td>NaT</td>\n",
              "      <td>2</td>\n",
              "      <td>3</td>\n",
              "      <td>0</td>\n",
              "      <td>5</td>\n",
              "      <td>650</td>\n",
              "      <td>12</td>\n",
              "      <td>12</td>\n",
              "      <td>...</td>\n",
              "      <td>1</td>\n",
              "      <td>1</td>\n",
              "      <td>1</td>\n",
              "      <td>2</td>\n",
              "      <td>2</td>\n",
              "      <td>2</td>\n",
              "      <td>-200</td>\n",
              "      <td>1068</td>\n",
              "      <td>420</td>\n",
              "      <td>100</td>\n",
              "    </tr>\n",
              "    <tr>\n",
              "      <th>113459</th>\n",
              "      <td>BENE132384</td>\n",
              "      <td>1969-08-01</td>\n",
              "      <td>NaT</td>\n",
              "      <td>1</td>\n",
              "      <td>1</td>\n",
              "      <td>0</td>\n",
              "      <td>5</td>\n",
              "      <td>470</td>\n",
              "      <td>12</td>\n",
              "      <td>12</td>\n",
              "      <td>...</td>\n",
              "      <td>2</td>\n",
              "      <td>2</td>\n",
              "      <td>2</td>\n",
              "      <td>2</td>\n",
              "      <td>2</td>\n",
              "      <td>2</td>\n",
              "      <td>-500</td>\n",
              "      <td>1068</td>\n",
              "      <td>220</td>\n",
              "      <td>40</td>\n",
              "    </tr>\n",
              "    <tr>\n",
              "      <th>116302</th>\n",
              "      <td>BENE135425</td>\n",
              "      <td>1924-12-01</td>\n",
              "      <td>NaT</td>\n",
              "      <td>2</td>\n",
              "      <td>1</td>\n",
              "      <td>0</td>\n",
              "      <td>33</td>\n",
              "      <td>420</td>\n",
              "      <td>12</td>\n",
              "      <td>12</td>\n",
              "      <td>...</td>\n",
              "      <td>1</td>\n",
              "      <td>2</td>\n",
              "      <td>2</td>\n",
              "      <td>2</td>\n",
              "      <td>1</td>\n",
              "      <td>2</td>\n",
              "      <td>-1400</td>\n",
              "      <td>1068</td>\n",
              "      <td>1900</td>\n",
              "      <td>20</td>\n",
              "    </tr>\n",
              "  </tbody>\n",
              "</table>\n",
              "<p>15 rows × 25 columns</p>\n",
              "</div>"
            ],
            "text/plain": [
              "            BeneID        DOB DOD Gender Race RenalDiseaseIndicator State  \\\n",
              "3559     BENE14791 1929-04-01 NaT      2    3                     0    12   \n",
              "8008     BENE19571 1938-07-01 NaT      2    1                     0    32   \n",
              "12999    BENE24913 1946-04-01 NaT      1    1                     0    49   \n",
              "15160    BENE27231 1935-02-01 NaT      1    1                     0    42   \n",
              "23146    BENE35786 1937-10-01 NaT      1    1                     0     3   \n",
              "31067    BENE44298 1929-02-01 NaT      2    2                     0     1   \n",
              "34829    BENE48336 1941-11-01 NaT      2    1                     0    18   \n",
              "40986    BENE54894 1926-04-01 NaT      2    1                     0    14   \n",
              "69876    BENE85807 1972-12-01 NaT      1    1                     0    44   \n",
              "75614    BENE91939 1973-09-01 NaT      2    2                     0    21   \n",
              "86500   BENE103563 1934-07-01 NaT      1    1                     0    45   \n",
              "88111   BENE105279 1931-11-01 NaT      2    1                     0    34   \n",
              "93328   BENE110853 1913-06-01 NaT      2    3                     0     5   \n",
              "113459  BENE132384 1969-08-01 NaT      1    1                     0     5   \n",
              "116302  BENE135425 1924-12-01 NaT      2    1                     0    33   \n",
              "\n",
              "       County  NoOfMonths_PartACov  NoOfMonths_PartBCov  ...  \\\n",
              "3559       20                   12                   12  ...   \n",
              "8008      230                   12                   12  ...   \n",
              "12999     930                   12                   12  ...   \n",
              "15160     250                   12                   12  ...   \n",
              "23146      60                   12                   12  ...   \n",
              "31067     510                   12                   12  ...   \n",
              "34829      70                   12                   12  ...   \n",
              "40986     141                   12                   12  ...   \n",
              "69876      60                   12                   12  ...   \n",
              "75614      20                   12                   12  ...   \n",
              "86500     810                   12                   12  ...   \n",
              "88111     800                   12                   12  ...   \n",
              "93328     650                   12                   12  ...   \n",
              "113459    470                   12                   12  ...   \n",
              "116302    420                   12                   12  ...   \n",
              "\n",
              "       ChronicCond_Depression ChronicCond_Diabetes ChronicCond_IschemicHeart  \\\n",
              "3559                        2                    2                         2   \n",
              "8008                        1                    1                         1   \n",
              "12999                       2                    1                         1   \n",
              "15160                       1                    1                         1   \n",
              "23146                       1                    1                         2   \n",
              "31067                       2                    2                         1   \n",
              "34829                       2                    1                         1   \n",
              "40986                       1                    1                         2   \n",
              "69876                       1                    2                         1   \n",
              "75614                       1                    1                         2   \n",
              "86500                       1                    1                         1   \n",
              "88111                       2                    1                         2   \n",
              "93328                       1                    1                         1   \n",
              "113459                      2                    2                         2   \n",
              "116302                      1                    2                         2   \n",
              "\n",
              "       ChronicCond_Osteoporasis ChronicCond_rheumatoidarthritis  \\\n",
              "3559                          2                               2   \n",
              "8008                          2                               2   \n",
              "12999                         2                               2   \n",
              "15160                         1                               2   \n",
              "23146                         2                               1   \n",
              "31067                         2                               2   \n",
              "34829                         2                               1   \n",
              "40986                         2                               2   \n",
              "69876                         2                               2   \n",
              "75614                         1                               1   \n",
              "86500                         1                               2   \n",
              "88111                         2                               2   \n",
              "93328                         2                               2   \n",
              "113459                        2                               2   \n",
              "116302                        2                               1   \n",
              "\n",
              "       ChronicCond_stroke IPAnnualReimbursementAmt IPAnnualDeductibleAmt  \\\n",
              "3559                    2                     -640                  1068   \n",
              "8008                    2                     -300                  1068   \n",
              "12999                   2                     -100                  1068   \n",
              "15160                   2                     -100                  1068   \n",
              "23146                   2                     -100                  1068   \n",
              "31067                   2                     -300                  1068   \n",
              "34829                   2                    -8000                  1068   \n",
              "40986                   2                    -1000                  1068   \n",
              "69876                   2                      -40                  1068   \n",
              "75614                   2                     -300                  1068   \n",
              "86500                   2                      -10                  1068   \n",
              "88111                   2                     -200                  1068   \n",
              "93328                   2                     -200                  1068   \n",
              "113459                  2                     -500                  1068   \n",
              "116302                  2                    -1400                  1068   \n",
              "\n",
              "       OPAnnualReimbursementAmt OPAnnualDeductibleAmt  \n",
              "3559                        180                    70  \n",
              "8008                       4720                   770  \n",
              "12999                       100                   100  \n",
              "15160                      1220                   770  \n",
              "23146                       820                  1180  \n",
              "31067                      2430                   200  \n",
              "34829                         0                    30  \n",
              "40986                       100                    10  \n",
              "69876                       170                   110  \n",
              "75614                       210                    10  \n",
              "86500                       480                   200  \n",
              "88111                      1420                   840  \n",
              "93328                       420                   100  \n",
              "113459                      220                    40  \n",
              "116302                     1900                    20  \n",
              "\n",
              "[15 rows x 25 columns]"
            ]
          },
          "metadata": {
            "tags": []
          },
          "execution_count": 90
        }
      ]
    },
    {
      "cell_type": "markdown",
      "metadata": {
        "id": "WVT2ITsh4J6-"
      },
      "source": [
        "<div class=\"alert alert-block alert-warning\">There are minus values in <strong>IPAnnualReimbursementAmt</strong>. They could mean that the hospital returns this ammount to them.\n",
        "</div>"
      ]
    },
    {
      "cell_type": "code",
      "metadata": {
        "id": "uPmODevo4J6-",
        "outputId": "e1ebd93b-b4eb-4147-a44a-b8013ce727f9"
      },
      "source": [
        "benefitial_df['IPAnnualDeductibleAmt'].value_counts()"
      ],
      "execution_count": null,
      "outputs": [
        {
          "output_type": "execute_result",
          "data": {
            "text/plain": [
              "0        102019\n",
              "1068      27113\n",
              "2136       6418\n",
              "3204       1481\n",
              "4272        369\n",
              "          ...  \n",
              "10272         1\n",
              "21204         1\n",
              "1118          1\n",
              "20136         1\n",
              "6140          1\n",
              "Name: IPAnnualDeductibleAmt, Length: 147, dtype: int64"
            ]
          },
          "metadata": {
            "tags": []
          },
          "execution_count": 85
        }
      ]
    },
    {
      "cell_type": "code",
      "metadata": {
        "id": "AjW8sZuB4J6-",
        "outputId": "577093bd-2f77-4af0-fe1d-3b105b5ecc9d"
      },
      "source": [
        "print('min: ',benefitial_df['IPAnnualDeductibleAmt'].min(),', max: ',benefitial_df['IPAnnualDeductibleAmt'].max())"
      ],
      "execution_count": null,
      "outputs": [
        {
          "output_type": "stream",
          "text": [
            "min:  0 , max:  38272\n"
          ],
          "name": "stdout"
        }
      ]
    },
    {
      "cell_type": "markdown",
      "metadata": {
        "id": "2fq6sZqT4J6_"
      },
      "source": [
        "<div class=\"alert alert-block alert-success\">There is no missing data in the <strong>IPAnnualDeductibleAmt</strong>.\n",
        "</div>\n",
        "\n",
        "***"
      ]
    },
    {
      "cell_type": "markdown",
      "metadata": {
        "id": "o3kYHWtM4J7A"
      },
      "source": [
        "# `OPAnnualReimbursementAmt` + `OPAnnualDeductibleAmt`"
      ]
    },
    {
      "cell_type": "code",
      "metadata": {
        "id": "8EH0xpGS4J7A",
        "outputId": "5402f089-a56a-4d7e-e8ed-295cbcdf4a91"
      },
      "source": [
        "benefitial_df['OPAnnualReimbursementAmt'].value_counts()"
      ],
      "execution_count": null,
      "outputs": [
        {
          "output_type": "execute_result",
          "data": {
            "text/plain": [
              "0        4205\n",
              "100      3916\n",
              "200      3153\n",
              "60       2694\n",
              "300      2280\n",
              "         ... \n",
              "17590       1\n",
              "9530        1\n",
              "21940       1\n",
              "10170       1\n",
              "20470       1\n",
              "Name: OPAnnualReimbursementAmt, Length: 2078, dtype: int64"
            ]
          },
          "metadata": {
            "tags": []
          },
          "execution_count": 92
        }
      ]
    },
    {
      "cell_type": "code",
      "metadata": {
        "id": "12N79IRO4J7A",
        "outputId": "4208454b-042f-4155-cba4-b55f0fd9317d"
      },
      "source": [
        "print('min: ',benefitial_df['OPAnnualReimbursementAmt'].min(),', max: ',benefitial_df['OPAnnualReimbursementAmt'].max())"
      ],
      "execution_count": null,
      "outputs": [
        {
          "output_type": "stream",
          "text": [
            "min:  -70 , max:  102960\n"
          ],
          "name": "stdout"
        }
      ]
    },
    {
      "cell_type": "code",
      "metadata": {
        "id": "6h5UQ6SM4J7B",
        "outputId": "78168780-1c17-4331-ff6e-65a1c64fd37e"
      },
      "source": [
        "benefitial_df[benefitial_df['OPAnnualReimbursementAmt']<0]"
      ],
      "execution_count": null,
      "outputs": [
        {
          "output_type": "execute_result",
          "data": {
            "text/html": [
              "<div>\n",
              "<style scoped>\n",
              "    .dataframe tbody tr th:only-of-type {\n",
              "        vertical-align: middle;\n",
              "    }\n",
              "\n",
              "    .dataframe tbody tr th {\n",
              "        vertical-align: top;\n",
              "    }\n",
              "\n",
              "    .dataframe thead th {\n",
              "        text-align: right;\n",
              "    }\n",
              "</style>\n",
              "<table border=\"1\" class=\"dataframe\">\n",
              "  <thead>\n",
              "    <tr style=\"text-align: right;\">\n",
              "      <th></th>\n",
              "      <th>BeneID</th>\n",
              "      <th>DOB</th>\n",
              "      <th>DOD</th>\n",
              "      <th>Gender</th>\n",
              "      <th>Race</th>\n",
              "      <th>RenalDiseaseIndicator</th>\n",
              "      <th>State</th>\n",
              "      <th>County</th>\n",
              "      <th>NoOfMonths_PartACov</th>\n",
              "      <th>NoOfMonths_PartBCov</th>\n",
              "      <th>...</th>\n",
              "      <th>ChronicCond_Depression</th>\n",
              "      <th>ChronicCond_Diabetes</th>\n",
              "      <th>ChronicCond_IschemicHeart</th>\n",
              "      <th>ChronicCond_Osteoporasis</th>\n",
              "      <th>ChronicCond_rheumatoidarthritis</th>\n",
              "      <th>ChronicCond_stroke</th>\n",
              "      <th>IPAnnualReimbursementAmt</th>\n",
              "      <th>IPAnnualDeductibleAmt</th>\n",
              "      <th>OPAnnualReimbursementAmt</th>\n",
              "      <th>OPAnnualDeductibleAmt</th>\n",
              "    </tr>\n",
              "  </thead>\n",
              "  <tbody>\n",
              "    <tr>\n",
              "      <th>5707</th>\n",
              "      <td>BENE17102</td>\n",
              "      <td>1929-08-01</td>\n",
              "      <td>NaT</td>\n",
              "      <td>1</td>\n",
              "      <td>1</td>\n",
              "      <td>0</td>\n",
              "      <td>10</td>\n",
              "      <td>120</td>\n",
              "      <td>12</td>\n",
              "      <td>12</td>\n",
              "      <td>...</td>\n",
              "      <td>2</td>\n",
              "      <td>1</td>\n",
              "      <td>1</td>\n",
              "      <td>2</td>\n",
              "      <td>1</td>\n",
              "      <td>2</td>\n",
              "      <td>44800</td>\n",
              "      <td>2136</td>\n",
              "      <td>-60</td>\n",
              "      <td>20</td>\n",
              "    </tr>\n",
              "    <tr>\n",
              "      <th>17371</th>\n",
              "      <td>BENE29608</td>\n",
              "      <td>1928-12-01</td>\n",
              "      <td>NaT</td>\n",
              "      <td>2</td>\n",
              "      <td>1</td>\n",
              "      <td>0</td>\n",
              "      <td>23</td>\n",
              "      <td>710</td>\n",
              "      <td>12</td>\n",
              "      <td>12</td>\n",
              "      <td>...</td>\n",
              "      <td>2</td>\n",
              "      <td>1</td>\n",
              "      <td>1</td>\n",
              "      <td>2</td>\n",
              "      <td>2</td>\n",
              "      <td>2</td>\n",
              "      <td>4400</td>\n",
              "      <td>2136</td>\n",
              "      <td>-20</td>\n",
              "      <td>100</td>\n",
              "    </tr>\n",
              "    <tr>\n",
              "      <th>24167</th>\n",
              "      <td>BENE36876</td>\n",
              "      <td>1935-11-01</td>\n",
              "      <td>NaT</td>\n",
              "      <td>1</td>\n",
              "      <td>1</td>\n",
              "      <td>Y</td>\n",
              "      <td>11</td>\n",
              "      <td>772</td>\n",
              "      <td>12</td>\n",
              "      <td>12</td>\n",
              "      <td>...</td>\n",
              "      <td>1</td>\n",
              "      <td>1</td>\n",
              "      <td>1</td>\n",
              "      <td>1</td>\n",
              "      <td>1</td>\n",
              "      <td>2</td>\n",
              "      <td>12100</td>\n",
              "      <td>1068</td>\n",
              "      <td>-10</td>\n",
              "      <td>0</td>\n",
              "    </tr>\n",
              "    <tr>\n",
              "      <th>26868</th>\n",
              "      <td>BENE39788</td>\n",
              "      <td>1939-06-01</td>\n",
              "      <td>NaT</td>\n",
              "      <td>1</td>\n",
              "      <td>1</td>\n",
              "      <td>0</td>\n",
              "      <td>7</td>\n",
              "      <td>10</td>\n",
              "      <td>12</td>\n",
              "      <td>12</td>\n",
              "      <td>...</td>\n",
              "      <td>2</td>\n",
              "      <td>2</td>\n",
              "      <td>1</td>\n",
              "      <td>2</td>\n",
              "      <td>2</td>\n",
              "      <td>2</td>\n",
              "      <td>11030</td>\n",
              "      <td>1068</td>\n",
              "      <td>-40</td>\n",
              "      <td>0</td>\n",
              "    </tr>\n",
              "    <tr>\n",
              "      <th>37622</th>\n",
              "      <td>BENE51322</td>\n",
              "      <td>1957-07-01</td>\n",
              "      <td>NaT</td>\n",
              "      <td>1</td>\n",
              "      <td>2</td>\n",
              "      <td>0</td>\n",
              "      <td>42</td>\n",
              "      <td>110</td>\n",
              "      <td>12</td>\n",
              "      <td>12</td>\n",
              "      <td>...</td>\n",
              "      <td>2</td>\n",
              "      <td>1</td>\n",
              "      <td>1</td>\n",
              "      <td>1</td>\n",
              "      <td>1</td>\n",
              "      <td>2</td>\n",
              "      <td>5060</td>\n",
              "      <td>1068</td>\n",
              "      <td>-60</td>\n",
              "      <td>20</td>\n",
              "    </tr>\n",
              "    <tr>\n",
              "      <th>38449</th>\n",
              "      <td>BENE52207</td>\n",
              "      <td>1933-12-01</td>\n",
              "      <td>NaT</td>\n",
              "      <td>2</td>\n",
              "      <td>2</td>\n",
              "      <td>Y</td>\n",
              "      <td>14</td>\n",
              "      <td>560</td>\n",
              "      <td>12</td>\n",
              "      <td>12</td>\n",
              "      <td>...</td>\n",
              "      <td>2</td>\n",
              "      <td>1</td>\n",
              "      <td>1</td>\n",
              "      <td>1</td>\n",
              "      <td>2</td>\n",
              "      <td>1</td>\n",
              "      <td>3000</td>\n",
              "      <td>1068</td>\n",
              "      <td>-10</td>\n",
              "      <td>40</td>\n",
              "    </tr>\n",
              "    <tr>\n",
              "      <th>48841</th>\n",
              "      <td>BENE63308</td>\n",
              "      <td>1918-06-01</td>\n",
              "      <td>NaT</td>\n",
              "      <td>2</td>\n",
              "      <td>1</td>\n",
              "      <td>Y</td>\n",
              "      <td>14</td>\n",
              "      <td>989</td>\n",
              "      <td>12</td>\n",
              "      <td>12</td>\n",
              "      <td>...</td>\n",
              "      <td>1</td>\n",
              "      <td>1</td>\n",
              "      <td>1</td>\n",
              "      <td>2</td>\n",
              "      <td>1</td>\n",
              "      <td>2</td>\n",
              "      <td>11800</td>\n",
              "      <td>2136</td>\n",
              "      <td>-50</td>\n",
              "      <td>20</td>\n",
              "    </tr>\n",
              "    <tr>\n",
              "      <th>51826</th>\n",
              "      <td>BENE66510</td>\n",
              "      <td>1926-05-01</td>\n",
              "      <td>NaT</td>\n",
              "      <td>2</td>\n",
              "      <td>1</td>\n",
              "      <td>0</td>\n",
              "      <td>44</td>\n",
              "      <td>930</td>\n",
              "      <td>12</td>\n",
              "      <td>12</td>\n",
              "      <td>...</td>\n",
              "      <td>2</td>\n",
              "      <td>2</td>\n",
              "      <td>2</td>\n",
              "      <td>2</td>\n",
              "      <td>2</td>\n",
              "      <td>2</td>\n",
              "      <td>5140</td>\n",
              "      <td>4068</td>\n",
              "      <td>-50</td>\n",
              "      <td>130</td>\n",
              "    </tr>\n",
              "    <tr>\n",
              "      <th>86393</th>\n",
              "      <td>BENE103447</td>\n",
              "      <td>1941-05-01</td>\n",
              "      <td>NaT</td>\n",
              "      <td>2</td>\n",
              "      <td>1</td>\n",
              "      <td>0</td>\n",
              "      <td>21</td>\n",
              "      <td>30</td>\n",
              "      <td>12</td>\n",
              "      <td>12</td>\n",
              "      <td>...</td>\n",
              "      <td>2</td>\n",
              "      <td>2</td>\n",
              "      <td>1</td>\n",
              "      <td>1</td>\n",
              "      <td>2</td>\n",
              "      <td>2</td>\n",
              "      <td>0</td>\n",
              "      <td>1068</td>\n",
              "      <td>-20</td>\n",
              "      <td>0</td>\n",
              "    </tr>\n",
              "    <tr>\n",
              "      <th>113093</th>\n",
              "      <td>BENE131989</td>\n",
              "      <td>1924-02-01</td>\n",
              "      <td>NaT</td>\n",
              "      <td>2</td>\n",
              "      <td>1</td>\n",
              "      <td>0</td>\n",
              "      <td>18</td>\n",
              "      <td>330</td>\n",
              "      <td>12</td>\n",
              "      <td>12</td>\n",
              "      <td>...</td>\n",
              "      <td>2</td>\n",
              "      <td>2</td>\n",
              "      <td>2</td>\n",
              "      <td>2</td>\n",
              "      <td>2</td>\n",
              "      <td>2</td>\n",
              "      <td>14000</td>\n",
              "      <td>1068</td>\n",
              "      <td>-70</td>\n",
              "      <td>0</td>\n",
              "    </tr>\n",
              "    <tr>\n",
              "      <th>131151</th>\n",
              "      <td>BENE151251</td>\n",
              "      <td>1966-05-01</td>\n",
              "      <td>NaT</td>\n",
              "      <td>2</td>\n",
              "      <td>2</td>\n",
              "      <td>0</td>\n",
              "      <td>7</td>\n",
              "      <td>30</td>\n",
              "      <td>12</td>\n",
              "      <td>12</td>\n",
              "      <td>...</td>\n",
              "      <td>2</td>\n",
              "      <td>2</td>\n",
              "      <td>1</td>\n",
              "      <td>2</td>\n",
              "      <td>2</td>\n",
              "      <td>2</td>\n",
              "      <td>2180</td>\n",
              "      <td>1068</td>\n",
              "      <td>-10</td>\n",
              "      <td>30</td>\n",
              "    </tr>\n",
              "    <tr>\n",
              "      <th>137402</th>\n",
              "      <td>BENE157969</td>\n",
              "      <td>1909-10-01</td>\n",
              "      <td>NaT</td>\n",
              "      <td>2</td>\n",
              "      <td>1</td>\n",
              "      <td>0</td>\n",
              "      <td>39</td>\n",
              "      <td>290</td>\n",
              "      <td>12</td>\n",
              "      <td>12</td>\n",
              "      <td>...</td>\n",
              "      <td>2</td>\n",
              "      <td>1</td>\n",
              "      <td>1</td>\n",
              "      <td>2</td>\n",
              "      <td>2</td>\n",
              "      <td>2</td>\n",
              "      <td>80100</td>\n",
              "      <td>1068</td>\n",
              "      <td>-60</td>\n",
              "      <td>10</td>\n",
              "    </tr>\n",
              "  </tbody>\n",
              "</table>\n",
              "<p>12 rows × 25 columns</p>\n",
              "</div>"
            ],
            "text/plain": [
              "            BeneID        DOB DOD Gender Race RenalDiseaseIndicator State  \\\n",
              "5707     BENE17102 1929-08-01 NaT      1    1                     0    10   \n",
              "17371    BENE29608 1928-12-01 NaT      2    1                     0    23   \n",
              "24167    BENE36876 1935-11-01 NaT      1    1                     Y    11   \n",
              "26868    BENE39788 1939-06-01 NaT      1    1                     0     7   \n",
              "37622    BENE51322 1957-07-01 NaT      1    2                     0    42   \n",
              "38449    BENE52207 1933-12-01 NaT      2    2                     Y    14   \n",
              "48841    BENE63308 1918-06-01 NaT      2    1                     Y    14   \n",
              "51826    BENE66510 1926-05-01 NaT      2    1                     0    44   \n",
              "86393   BENE103447 1941-05-01 NaT      2    1                     0    21   \n",
              "113093  BENE131989 1924-02-01 NaT      2    1                     0    18   \n",
              "131151  BENE151251 1966-05-01 NaT      2    2                     0     7   \n",
              "137402  BENE157969 1909-10-01 NaT      2    1                     0    39   \n",
              "\n",
              "       County  NoOfMonths_PartACov  NoOfMonths_PartBCov  ...  \\\n",
              "5707      120                   12                   12  ...   \n",
              "17371     710                   12                   12  ...   \n",
              "24167     772                   12                   12  ...   \n",
              "26868      10                   12                   12  ...   \n",
              "37622     110                   12                   12  ...   \n",
              "38449     560                   12                   12  ...   \n",
              "48841     989                   12                   12  ...   \n",
              "51826     930                   12                   12  ...   \n",
              "86393      30                   12                   12  ...   \n",
              "113093    330                   12                   12  ...   \n",
              "131151     30                   12                   12  ...   \n",
              "137402    290                   12                   12  ...   \n",
              "\n",
              "       ChronicCond_Depression ChronicCond_Diabetes ChronicCond_IschemicHeart  \\\n",
              "5707                        2                    1                         1   \n",
              "17371                       2                    1                         1   \n",
              "24167                       1                    1                         1   \n",
              "26868                       2                    2                         1   \n",
              "37622                       2                    1                         1   \n",
              "38449                       2                    1                         1   \n",
              "48841                       1                    1                         1   \n",
              "51826                       2                    2                         2   \n",
              "86393                       2                    2                         1   \n",
              "113093                      2                    2                         2   \n",
              "131151                      2                    2                         1   \n",
              "137402                      2                    1                         1   \n",
              "\n",
              "       ChronicCond_Osteoporasis ChronicCond_rheumatoidarthritis  \\\n",
              "5707                          2                               1   \n",
              "17371                         2                               2   \n",
              "24167                         1                               1   \n",
              "26868                         2                               2   \n",
              "37622                         1                               1   \n",
              "38449                         1                               2   \n",
              "48841                         2                               1   \n",
              "51826                         2                               2   \n",
              "86393                         1                               2   \n",
              "113093                        2                               2   \n",
              "131151                        2                               2   \n",
              "137402                        2                               2   \n",
              "\n",
              "       ChronicCond_stroke IPAnnualReimbursementAmt IPAnnualDeductibleAmt  \\\n",
              "5707                    2                    44800                  2136   \n",
              "17371                   2                     4400                  2136   \n",
              "24167                   2                    12100                  1068   \n",
              "26868                   2                    11030                  1068   \n",
              "37622                   2                     5060                  1068   \n",
              "38449                   1                     3000                  1068   \n",
              "48841                   2                    11800                  2136   \n",
              "51826                   2                     5140                  4068   \n",
              "86393                   2                        0                  1068   \n",
              "113093                  2                    14000                  1068   \n",
              "131151                  2                     2180                  1068   \n",
              "137402                  2                    80100                  1068   \n",
              "\n",
              "       OPAnnualReimbursementAmt OPAnnualDeductibleAmt  \n",
              "5707                        -60                    20  \n",
              "17371                       -20                   100  \n",
              "24167                       -10                     0  \n",
              "26868                       -40                     0  \n",
              "37622                       -60                    20  \n",
              "38449                       -10                    40  \n",
              "48841                       -50                    20  \n",
              "51826                       -50                   130  \n",
              "86393                       -20                     0  \n",
              "113093                      -70                     0  \n",
              "131151                      -10                    30  \n",
              "137402                      -60                    10  \n",
              "\n",
              "[12 rows x 25 columns]"
            ]
          },
          "metadata": {
            "tags": []
          },
          "execution_count": 94
        }
      ]
    },
    {
      "cell_type": "markdown",
      "metadata": {
        "id": "44OrA7Oi4J7B"
      },
      "source": [
        "<div class=\"alert alert-block alert-warning\">There are minus values in <strong>OPAnnualReimbursementAmt</strong>. They could mean that the hospital returns this ammount to them.\n",
        "</div>"
      ]
    },
    {
      "cell_type": "code",
      "metadata": {
        "id": "WKB0vDY24J7B",
        "outputId": "0e782ff0-718d-42ac-9b9d-b3284b79f3ac"
      },
      "source": [
        "benefitial_df['OPAnnualDeductibleAmt'].value_counts()"
      ],
      "execution_count": null,
      "outputs": [
        {
          "output_type": "execute_result",
          "data": {
            "text/plain": [
              "0        13890\n",
              "20        7271\n",
              "10        6140\n",
              "30        4755\n",
              "100       4743\n",
              "         ...  \n",
              "8880         1\n",
              "7520         1\n",
              "7600         1\n",
              "10080        1\n",
              "4890         1\n",
              "Name: OPAnnualDeductibleAmt, Length: 789, dtype: int64"
            ]
          },
          "metadata": {
            "tags": []
          },
          "execution_count": 95
        }
      ]
    },
    {
      "cell_type": "code",
      "metadata": {
        "id": "77wszCan4J7B",
        "outputId": "8816cc98-2877-4f08-9724-4948f143c0ea"
      },
      "source": [
        "print('min: ',benefitial_df['OPAnnualDeductibleAmt'].min(),', max: ',benefitial_df['OPAnnualDeductibleAmt'].max())"
      ],
      "execution_count": null,
      "outputs": [
        {
          "output_type": "stream",
          "text": [
            "min:  0 , max:  13840\n"
          ],
          "name": "stdout"
        }
      ]
    },
    {
      "cell_type": "markdown",
      "metadata": {
        "id": "7TlDPtvk4J7C"
      },
      "source": [
        "<div class=\"alert alert-block alert-success\">There is no missing data in the <strong>OPAnnualDeductibleAmt</strong>.\n",
        "</div>\n",
        "\n",
        "***"
      ]
    }
  ]
}